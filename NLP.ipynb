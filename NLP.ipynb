{
  "nbformat": 4,
  "nbformat_minor": 0,
  "metadata": {
    "colab": {
      "provenance": [],
      "authorship_tag": "ABX9TyP8UJIBBdCIOL5EIeL5wtfi",
      "include_colab_link": true
    },
    "kernelspec": {
      "name": "python3",
      "display_name": "Python 3"
    },
    "language_info": {
      "name": "python"
    },
    "widgets": {
      "application/vnd.jupyter.widget-state+json": {
        "789459d69d7140b69473d7b5a45b73f1": {
          "model_module": "@jupyter-widgets/controls",
          "model_name": "HBoxModel",
          "model_module_version": "1.5.0",
          "state": {
            "_dom_classes": [],
            "_model_module": "@jupyter-widgets/controls",
            "_model_module_version": "1.5.0",
            "_model_name": "HBoxModel",
            "_view_count": null,
            "_view_module": "@jupyter-widgets/controls",
            "_view_module_version": "1.5.0",
            "_view_name": "HBoxView",
            "box_style": "",
            "children": [
              "IPY_MODEL_8adf28e9160e46fa944cd1ce9f5fb259",
              "IPY_MODEL_a54f7e6b6f0f428b92a1f2dc047252c0",
              "IPY_MODEL_c58e35596d514490809eac84f60d5fae"
            ],
            "layout": "IPY_MODEL_beda7bea047c454d901e67eddf57f05f"
          }
        },
        "8adf28e9160e46fa944cd1ce9f5fb259": {
          "model_module": "@jupyter-widgets/controls",
          "model_name": "HTMLModel",
          "model_module_version": "1.5.0",
          "state": {
            "_dom_classes": [],
            "_model_module": "@jupyter-widgets/controls",
            "_model_module_version": "1.5.0",
            "_model_name": "HTMLModel",
            "_view_count": null,
            "_view_module": "@jupyter-widgets/controls",
            "_view_module_version": "1.5.0",
            "_view_name": "HTMLView",
            "description": "",
            "description_tooltip": null,
            "layout": "IPY_MODEL_4790a34177184203acd2bb94db3b5fe0",
            "placeholder": "​",
            "style": "IPY_MODEL_368b23141b874bcba8cdbe84bb791e11",
            "value": "100%"
          }
        },
        "a54f7e6b6f0f428b92a1f2dc047252c0": {
          "model_module": "@jupyter-widgets/controls",
          "model_name": "FloatProgressModel",
          "model_module_version": "1.5.0",
          "state": {
            "_dom_classes": [],
            "_model_module": "@jupyter-widgets/controls",
            "_model_module_version": "1.5.0",
            "_model_name": "FloatProgressModel",
            "_view_count": null,
            "_view_module": "@jupyter-widgets/controls",
            "_view_module_version": "1.5.0",
            "_view_name": "ProgressView",
            "bar_style": "success",
            "description": "",
            "description_tooltip": null,
            "layout": "IPY_MODEL_490413dadada4b5e9bd6b7f7b9106127",
            "max": 1000,
            "min": 0,
            "orientation": "horizontal",
            "style": "IPY_MODEL_493c595906044d06b89ee2b529f248d8",
            "value": 1000
          }
        },
        "c58e35596d514490809eac84f60d5fae": {
          "model_module": "@jupyter-widgets/controls",
          "model_name": "HTMLModel",
          "model_module_version": "1.5.0",
          "state": {
            "_dom_classes": [],
            "_model_module": "@jupyter-widgets/controls",
            "_model_module_version": "1.5.0",
            "_model_name": "HTMLModel",
            "_view_count": null,
            "_view_module": "@jupyter-widgets/controls",
            "_view_module_version": "1.5.0",
            "_view_name": "HTMLView",
            "description": "",
            "description_tooltip": null,
            "layout": "IPY_MODEL_4c5f86de01464e90bc6ce20035f6bda4",
            "placeholder": "​",
            "style": "IPY_MODEL_d4d2296776ff40a885333e5554260327",
            "value": " 1000/1000 [00:00&lt;00:00, 3621.98it/s]"
          }
        },
        "beda7bea047c454d901e67eddf57f05f": {
          "model_module": "@jupyter-widgets/base",
          "model_name": "LayoutModel",
          "model_module_version": "1.2.0",
          "state": {
            "_model_module": "@jupyter-widgets/base",
            "_model_module_version": "1.2.0",
            "_model_name": "LayoutModel",
            "_view_count": null,
            "_view_module": "@jupyter-widgets/base",
            "_view_module_version": "1.2.0",
            "_view_name": "LayoutView",
            "align_content": null,
            "align_items": null,
            "align_self": null,
            "border": null,
            "bottom": null,
            "display": null,
            "flex": null,
            "flex_flow": null,
            "grid_area": null,
            "grid_auto_columns": null,
            "grid_auto_flow": null,
            "grid_auto_rows": null,
            "grid_column": null,
            "grid_gap": null,
            "grid_row": null,
            "grid_template_areas": null,
            "grid_template_columns": null,
            "grid_template_rows": null,
            "height": null,
            "justify_content": null,
            "justify_items": null,
            "left": null,
            "margin": null,
            "max_height": null,
            "max_width": null,
            "min_height": null,
            "min_width": null,
            "object_fit": null,
            "object_position": null,
            "order": null,
            "overflow": null,
            "overflow_x": null,
            "overflow_y": null,
            "padding": null,
            "right": null,
            "top": null,
            "visibility": null,
            "width": null
          }
        },
        "4790a34177184203acd2bb94db3b5fe0": {
          "model_module": "@jupyter-widgets/base",
          "model_name": "LayoutModel",
          "model_module_version": "1.2.0",
          "state": {
            "_model_module": "@jupyter-widgets/base",
            "_model_module_version": "1.2.0",
            "_model_name": "LayoutModel",
            "_view_count": null,
            "_view_module": "@jupyter-widgets/base",
            "_view_module_version": "1.2.0",
            "_view_name": "LayoutView",
            "align_content": null,
            "align_items": null,
            "align_self": null,
            "border": null,
            "bottom": null,
            "display": null,
            "flex": null,
            "flex_flow": null,
            "grid_area": null,
            "grid_auto_columns": null,
            "grid_auto_flow": null,
            "grid_auto_rows": null,
            "grid_column": null,
            "grid_gap": null,
            "grid_row": null,
            "grid_template_areas": null,
            "grid_template_columns": null,
            "grid_template_rows": null,
            "height": null,
            "justify_content": null,
            "justify_items": null,
            "left": null,
            "margin": null,
            "max_height": null,
            "max_width": null,
            "min_height": null,
            "min_width": null,
            "object_fit": null,
            "object_position": null,
            "order": null,
            "overflow": null,
            "overflow_x": null,
            "overflow_y": null,
            "padding": null,
            "right": null,
            "top": null,
            "visibility": null,
            "width": null
          }
        },
        "368b23141b874bcba8cdbe84bb791e11": {
          "model_module": "@jupyter-widgets/controls",
          "model_name": "DescriptionStyleModel",
          "model_module_version": "1.5.0",
          "state": {
            "_model_module": "@jupyter-widgets/controls",
            "_model_module_version": "1.5.0",
            "_model_name": "DescriptionStyleModel",
            "_view_count": null,
            "_view_module": "@jupyter-widgets/base",
            "_view_module_version": "1.2.0",
            "_view_name": "StyleView",
            "description_width": ""
          }
        },
        "490413dadada4b5e9bd6b7f7b9106127": {
          "model_module": "@jupyter-widgets/base",
          "model_name": "LayoutModel",
          "model_module_version": "1.2.0",
          "state": {
            "_model_module": "@jupyter-widgets/base",
            "_model_module_version": "1.2.0",
            "_model_name": "LayoutModel",
            "_view_count": null,
            "_view_module": "@jupyter-widgets/base",
            "_view_module_version": "1.2.0",
            "_view_name": "LayoutView",
            "align_content": null,
            "align_items": null,
            "align_self": null,
            "border": null,
            "bottom": null,
            "display": null,
            "flex": null,
            "flex_flow": null,
            "grid_area": null,
            "grid_auto_columns": null,
            "grid_auto_flow": null,
            "grid_auto_rows": null,
            "grid_column": null,
            "grid_gap": null,
            "grid_row": null,
            "grid_template_areas": null,
            "grid_template_columns": null,
            "grid_template_rows": null,
            "height": null,
            "justify_content": null,
            "justify_items": null,
            "left": null,
            "margin": null,
            "max_height": null,
            "max_width": null,
            "min_height": null,
            "min_width": null,
            "object_fit": null,
            "object_position": null,
            "order": null,
            "overflow": null,
            "overflow_x": null,
            "overflow_y": null,
            "padding": null,
            "right": null,
            "top": null,
            "visibility": null,
            "width": null
          }
        },
        "493c595906044d06b89ee2b529f248d8": {
          "model_module": "@jupyter-widgets/controls",
          "model_name": "ProgressStyleModel",
          "model_module_version": "1.5.0",
          "state": {
            "_model_module": "@jupyter-widgets/controls",
            "_model_module_version": "1.5.0",
            "_model_name": "ProgressStyleModel",
            "_view_count": null,
            "_view_module": "@jupyter-widgets/base",
            "_view_module_version": "1.2.0",
            "_view_name": "StyleView",
            "bar_color": null,
            "description_width": ""
          }
        },
        "4c5f86de01464e90bc6ce20035f6bda4": {
          "model_module": "@jupyter-widgets/base",
          "model_name": "LayoutModel",
          "model_module_version": "1.2.0",
          "state": {
            "_model_module": "@jupyter-widgets/base",
            "_model_module_version": "1.2.0",
            "_model_name": "LayoutModel",
            "_view_count": null,
            "_view_module": "@jupyter-widgets/base",
            "_view_module_version": "1.2.0",
            "_view_name": "LayoutView",
            "align_content": null,
            "align_items": null,
            "align_self": null,
            "border": null,
            "bottom": null,
            "display": null,
            "flex": null,
            "flex_flow": null,
            "grid_area": null,
            "grid_auto_columns": null,
            "grid_auto_flow": null,
            "grid_auto_rows": null,
            "grid_column": null,
            "grid_gap": null,
            "grid_row": null,
            "grid_template_areas": null,
            "grid_template_columns": null,
            "grid_template_rows": null,
            "height": null,
            "justify_content": null,
            "justify_items": null,
            "left": null,
            "margin": null,
            "max_height": null,
            "max_width": null,
            "min_height": null,
            "min_width": null,
            "object_fit": null,
            "object_position": null,
            "order": null,
            "overflow": null,
            "overflow_x": null,
            "overflow_y": null,
            "padding": null,
            "right": null,
            "top": null,
            "visibility": null,
            "width": null
          }
        },
        "d4d2296776ff40a885333e5554260327": {
          "model_module": "@jupyter-widgets/controls",
          "model_name": "DescriptionStyleModel",
          "model_module_version": "1.5.0",
          "state": {
            "_model_module": "@jupyter-widgets/controls",
            "_model_module_version": "1.5.0",
            "_model_name": "DescriptionStyleModel",
            "_view_count": null,
            "_view_module": "@jupyter-widgets/base",
            "_view_module_version": "1.2.0",
            "_view_name": "StyleView",
            "description_width": ""
          }
        }
      }
    }
  },
  "cells": [
    {
      "cell_type": "markdown",
      "metadata": {
        "id": "view-in-github",
        "colab_type": "text"
      },
      "source": [
        "<a href=\"https://colab.research.google.com/github/rehann888/Natural-Language-Processing/blob/main/NLP.ipynb\" target=\"_parent\"><img src=\"https://colab.research.google.com/assets/colab-badge.svg\" alt=\"Open In Colab\"/></a>"
      ]
    },
    {
      "cell_type": "code",
      "source": [
        "import numpy as np\n",
        "import pandas as pd\n",
        "\n",
        "import os\n",
        "from nltk.tokenize import word_tokenize\n",
        "from nltk.corpus import stopwords\n",
        "from gensim.models import FastText\n",
        "from tqdm.auto import tqdm\n",
        "\n",
        "from sklearn.model_selection import train_test_split\n",
        "from sklearn.pipeline import Pipeline\n",
        "from sklearn.compose import ColumnTransformer\n",
        "\n",
        "from jcopml.utils import save_model, load_model"
      ],
      "metadata": {
        "id": "8XsFpHoSjEeA"
      },
      "execution_count": 86,
      "outputs": []
    },
    {
      "cell_type": "code",
      "source": [
        "from string import punctuation"
      ],
      "metadata": {
        "id": "THqwWVM7CHCo"
      },
      "execution_count": 87,
      "outputs": []
    },
    {
      "cell_type": "code",
      "source": [
        "df = pd.read_csv(\"review.tsv\", sep='\\t')\n",
        "df.head()"
      ],
      "metadata": {
        "colab": {
          "base_uri": "https://localhost:8080/",
          "height": 206
        },
        "id": "Q0sPAFrvPslq",
        "outputId": "fd9da846-f511-4d09-e994-60cb9aff23c7"
      },
      "execution_count": 88,
      "outputs": [
        {
          "output_type": "execute_result",
          "data": {
            "text/plain": [
              "                                              Review  Liked\n",
              "0                           Wow... Loved this place.      1\n",
              "1                                 Crust is not good.      0\n",
              "2          Not tasty and the texture was just nasty.      0\n",
              "3  Stopped by during the late May bank holiday of...      1\n",
              "4  The selection on the menu was great and so wer...      1"
            ],
            "text/html": [
              "\n",
              "  <div id=\"df-dc53b486-c908-4b7c-bcdf-7173c7549039\" class=\"colab-df-container\">\n",
              "    <div>\n",
              "<style scoped>\n",
              "    .dataframe tbody tr th:only-of-type {\n",
              "        vertical-align: middle;\n",
              "    }\n",
              "\n",
              "    .dataframe tbody tr th {\n",
              "        vertical-align: top;\n",
              "    }\n",
              "\n",
              "    .dataframe thead th {\n",
              "        text-align: right;\n",
              "    }\n",
              "</style>\n",
              "<table border=\"1\" class=\"dataframe\">\n",
              "  <thead>\n",
              "    <tr style=\"text-align: right;\">\n",
              "      <th></th>\n",
              "      <th>Review</th>\n",
              "      <th>Liked</th>\n",
              "    </tr>\n",
              "  </thead>\n",
              "  <tbody>\n",
              "    <tr>\n",
              "      <th>0</th>\n",
              "      <td>Wow... Loved this place.</td>\n",
              "      <td>1</td>\n",
              "    </tr>\n",
              "    <tr>\n",
              "      <th>1</th>\n",
              "      <td>Crust is not good.</td>\n",
              "      <td>0</td>\n",
              "    </tr>\n",
              "    <tr>\n",
              "      <th>2</th>\n",
              "      <td>Not tasty and the texture was just nasty.</td>\n",
              "      <td>0</td>\n",
              "    </tr>\n",
              "    <tr>\n",
              "      <th>3</th>\n",
              "      <td>Stopped by during the late May bank holiday of...</td>\n",
              "      <td>1</td>\n",
              "    </tr>\n",
              "    <tr>\n",
              "      <th>4</th>\n",
              "      <td>The selection on the menu was great and so wer...</td>\n",
              "      <td>1</td>\n",
              "    </tr>\n",
              "  </tbody>\n",
              "</table>\n",
              "</div>\n",
              "    <div class=\"colab-df-buttons\">\n",
              "\n",
              "  <div class=\"colab-df-container\">\n",
              "    <button class=\"colab-df-convert\" onclick=\"convertToInteractive('df-dc53b486-c908-4b7c-bcdf-7173c7549039')\"\n",
              "            title=\"Convert this dataframe to an interactive table.\"\n",
              "            style=\"display:none;\">\n",
              "\n",
              "  <svg xmlns=\"http://www.w3.org/2000/svg\" height=\"24px\" viewBox=\"0 -960 960 960\">\n",
              "    <path d=\"M120-120v-720h720v720H120Zm60-500h600v-160H180v160Zm220 220h160v-160H400v160Zm0 220h160v-160H400v160ZM180-400h160v-160H180v160Zm440 0h160v-160H620v160ZM180-180h160v-160H180v160Zm440 0h160v-160H620v160Z\"/>\n",
              "  </svg>\n",
              "    </button>\n",
              "\n",
              "  <style>\n",
              "    .colab-df-container {\n",
              "      display:flex;\n",
              "      gap: 12px;\n",
              "    }\n",
              "\n",
              "    .colab-df-convert {\n",
              "      background-color: #E8F0FE;\n",
              "      border: none;\n",
              "      border-radius: 50%;\n",
              "      cursor: pointer;\n",
              "      display: none;\n",
              "      fill: #1967D2;\n",
              "      height: 32px;\n",
              "      padding: 0 0 0 0;\n",
              "      width: 32px;\n",
              "    }\n",
              "\n",
              "    .colab-df-convert:hover {\n",
              "      background-color: #E2EBFA;\n",
              "      box-shadow: 0px 1px 2px rgba(60, 64, 67, 0.3), 0px 1px 3px 1px rgba(60, 64, 67, 0.15);\n",
              "      fill: #174EA6;\n",
              "    }\n",
              "\n",
              "    .colab-df-buttons div {\n",
              "      margin-bottom: 4px;\n",
              "    }\n",
              "\n",
              "    [theme=dark] .colab-df-convert {\n",
              "      background-color: #3B4455;\n",
              "      fill: #D2E3FC;\n",
              "    }\n",
              "\n",
              "    [theme=dark] .colab-df-convert:hover {\n",
              "      background-color: #434B5C;\n",
              "      box-shadow: 0px 1px 3px 1px rgba(0, 0, 0, 0.15);\n",
              "      filter: drop-shadow(0px 1px 2px rgba(0, 0, 0, 0.3));\n",
              "      fill: #FFFFFF;\n",
              "    }\n",
              "  </style>\n",
              "\n",
              "    <script>\n",
              "      const buttonEl =\n",
              "        document.querySelector('#df-dc53b486-c908-4b7c-bcdf-7173c7549039 button.colab-df-convert');\n",
              "      buttonEl.style.display =\n",
              "        google.colab.kernel.accessAllowed ? 'block' : 'none';\n",
              "\n",
              "      async function convertToInteractive(key) {\n",
              "        const element = document.querySelector('#df-dc53b486-c908-4b7c-bcdf-7173c7549039');\n",
              "        const dataTable =\n",
              "          await google.colab.kernel.invokeFunction('convertToInteractive',\n",
              "                                                    [key], {});\n",
              "        if (!dataTable) return;\n",
              "\n",
              "        const docLinkHtml = 'Like what you see? Visit the ' +\n",
              "          '<a target=\"_blank\" href=https://colab.research.google.com/notebooks/data_table.ipynb>data table notebook</a>'\n",
              "          + ' to learn more about interactive tables.';\n",
              "        element.innerHTML = '';\n",
              "        dataTable['output_type'] = 'display_data';\n",
              "        await google.colab.output.renderOutput(dataTable, element);\n",
              "        const docLink = document.createElement('div');\n",
              "        docLink.innerHTML = docLinkHtml;\n",
              "        element.appendChild(docLink);\n",
              "      }\n",
              "    </script>\n",
              "  </div>\n",
              "\n",
              "\n",
              "<div id=\"df-8b9382d0-9e0d-48aa-876d-23aa54e3ef95\">\n",
              "  <button class=\"colab-df-quickchart\" onclick=\"quickchart('df-8b9382d0-9e0d-48aa-876d-23aa54e3ef95')\"\n",
              "            title=\"Suggest charts\"\n",
              "            style=\"display:none;\">\n",
              "\n",
              "<svg xmlns=\"http://www.w3.org/2000/svg\" height=\"24px\"viewBox=\"0 0 24 24\"\n",
              "     width=\"24px\">\n",
              "    <g>\n",
              "        <path d=\"M19 3H5c-1.1 0-2 .9-2 2v14c0 1.1.9 2 2 2h14c1.1 0 2-.9 2-2V5c0-1.1-.9-2-2-2zM9 17H7v-7h2v7zm4 0h-2V7h2v10zm4 0h-2v-4h2v4z\"/>\n",
              "    </g>\n",
              "</svg>\n",
              "  </button>\n",
              "\n",
              "<style>\n",
              "  .colab-df-quickchart {\n",
              "      --bg-color: #E8F0FE;\n",
              "      --fill-color: #1967D2;\n",
              "      --hover-bg-color: #E2EBFA;\n",
              "      --hover-fill-color: #174EA6;\n",
              "      --disabled-fill-color: #AAA;\n",
              "      --disabled-bg-color: #DDD;\n",
              "  }\n",
              "\n",
              "  [theme=dark] .colab-df-quickchart {\n",
              "      --bg-color: #3B4455;\n",
              "      --fill-color: #D2E3FC;\n",
              "      --hover-bg-color: #434B5C;\n",
              "      --hover-fill-color: #FFFFFF;\n",
              "      --disabled-bg-color: #3B4455;\n",
              "      --disabled-fill-color: #666;\n",
              "  }\n",
              "\n",
              "  .colab-df-quickchart {\n",
              "    background-color: var(--bg-color);\n",
              "    border: none;\n",
              "    border-radius: 50%;\n",
              "    cursor: pointer;\n",
              "    display: none;\n",
              "    fill: var(--fill-color);\n",
              "    height: 32px;\n",
              "    padding: 0;\n",
              "    width: 32px;\n",
              "  }\n",
              "\n",
              "  .colab-df-quickchart:hover {\n",
              "    background-color: var(--hover-bg-color);\n",
              "    box-shadow: 0 1px 2px rgba(60, 64, 67, 0.3), 0 1px 3px 1px rgba(60, 64, 67, 0.15);\n",
              "    fill: var(--button-hover-fill-color);\n",
              "  }\n",
              "\n",
              "  .colab-df-quickchart-complete:disabled,\n",
              "  .colab-df-quickchart-complete:disabled:hover {\n",
              "    background-color: var(--disabled-bg-color);\n",
              "    fill: var(--disabled-fill-color);\n",
              "    box-shadow: none;\n",
              "  }\n",
              "\n",
              "  .colab-df-spinner {\n",
              "    border: 2px solid var(--fill-color);\n",
              "    border-color: transparent;\n",
              "    border-bottom-color: var(--fill-color);\n",
              "    animation:\n",
              "      spin 1s steps(1) infinite;\n",
              "  }\n",
              "\n",
              "  @keyframes spin {\n",
              "    0% {\n",
              "      border-color: transparent;\n",
              "      border-bottom-color: var(--fill-color);\n",
              "      border-left-color: var(--fill-color);\n",
              "    }\n",
              "    20% {\n",
              "      border-color: transparent;\n",
              "      border-left-color: var(--fill-color);\n",
              "      border-top-color: var(--fill-color);\n",
              "    }\n",
              "    30% {\n",
              "      border-color: transparent;\n",
              "      border-left-color: var(--fill-color);\n",
              "      border-top-color: var(--fill-color);\n",
              "      border-right-color: var(--fill-color);\n",
              "    }\n",
              "    40% {\n",
              "      border-color: transparent;\n",
              "      border-right-color: var(--fill-color);\n",
              "      border-top-color: var(--fill-color);\n",
              "    }\n",
              "    60% {\n",
              "      border-color: transparent;\n",
              "      border-right-color: var(--fill-color);\n",
              "    }\n",
              "    80% {\n",
              "      border-color: transparent;\n",
              "      border-right-color: var(--fill-color);\n",
              "      border-bottom-color: var(--fill-color);\n",
              "    }\n",
              "    90% {\n",
              "      border-color: transparent;\n",
              "      border-bottom-color: var(--fill-color);\n",
              "    }\n",
              "  }\n",
              "</style>\n",
              "\n",
              "  <script>\n",
              "    async function quickchart(key) {\n",
              "      const quickchartButtonEl =\n",
              "        document.querySelector('#' + key + ' button');\n",
              "      quickchartButtonEl.disabled = true;  // To prevent multiple clicks.\n",
              "      quickchartButtonEl.classList.add('colab-df-spinner');\n",
              "      try {\n",
              "        const charts = await google.colab.kernel.invokeFunction(\n",
              "            'suggestCharts', [key], {});\n",
              "      } catch (error) {\n",
              "        console.error('Error during call to suggestCharts:', error);\n",
              "      }\n",
              "      quickchartButtonEl.classList.remove('colab-df-spinner');\n",
              "      quickchartButtonEl.classList.add('colab-df-quickchart-complete');\n",
              "    }\n",
              "    (() => {\n",
              "      let quickchartButtonEl =\n",
              "        document.querySelector('#df-8b9382d0-9e0d-48aa-876d-23aa54e3ef95 button');\n",
              "      quickchartButtonEl.style.display =\n",
              "        google.colab.kernel.accessAllowed ? 'block' : 'none';\n",
              "    })();\n",
              "  </script>\n",
              "</div>\n",
              "    </div>\n",
              "  </div>\n"
            ]
          },
          "metadata": {},
          "execution_count": 88
        }
      ]
    },
    {
      "cell_type": "code",
      "source": [
        "df.tail()"
      ],
      "metadata": {
        "colab": {
          "base_uri": "https://localhost:8080/",
          "height": 206
        },
        "id": "e_uvWYg5PyIh",
        "outputId": "53c8eeda-a87e-4a78-c01a-28c66548a860"
      },
      "execution_count": 89,
      "outputs": [
        {
          "output_type": "execute_result",
          "data": {
            "text/plain": [
              "                                                Review  Liked\n",
              "995  I think food should have flavor and texture an...      0\n",
              "996                           Appetite instantly gone.      0\n",
              "997  Overall I was not impressed and would not go b...      0\n",
              "998  The whole experience was underwhelming, and I ...      0\n",
              "999  Then, as if I hadn't wasted enough of my life ...      0"
            ],
            "text/html": [
              "\n",
              "  <div id=\"df-d63564e6-5670-4e10-a0a5-0bf968987cc4\" class=\"colab-df-container\">\n",
              "    <div>\n",
              "<style scoped>\n",
              "    .dataframe tbody tr th:only-of-type {\n",
              "        vertical-align: middle;\n",
              "    }\n",
              "\n",
              "    .dataframe tbody tr th {\n",
              "        vertical-align: top;\n",
              "    }\n",
              "\n",
              "    .dataframe thead th {\n",
              "        text-align: right;\n",
              "    }\n",
              "</style>\n",
              "<table border=\"1\" class=\"dataframe\">\n",
              "  <thead>\n",
              "    <tr style=\"text-align: right;\">\n",
              "      <th></th>\n",
              "      <th>Review</th>\n",
              "      <th>Liked</th>\n",
              "    </tr>\n",
              "  </thead>\n",
              "  <tbody>\n",
              "    <tr>\n",
              "      <th>995</th>\n",
              "      <td>I think food should have flavor and texture an...</td>\n",
              "      <td>0</td>\n",
              "    </tr>\n",
              "    <tr>\n",
              "      <th>996</th>\n",
              "      <td>Appetite instantly gone.</td>\n",
              "      <td>0</td>\n",
              "    </tr>\n",
              "    <tr>\n",
              "      <th>997</th>\n",
              "      <td>Overall I was not impressed and would not go b...</td>\n",
              "      <td>0</td>\n",
              "    </tr>\n",
              "    <tr>\n",
              "      <th>998</th>\n",
              "      <td>The whole experience was underwhelming, and I ...</td>\n",
              "      <td>0</td>\n",
              "    </tr>\n",
              "    <tr>\n",
              "      <th>999</th>\n",
              "      <td>Then, as if I hadn't wasted enough of my life ...</td>\n",
              "      <td>0</td>\n",
              "    </tr>\n",
              "  </tbody>\n",
              "</table>\n",
              "</div>\n",
              "    <div class=\"colab-df-buttons\">\n",
              "\n",
              "  <div class=\"colab-df-container\">\n",
              "    <button class=\"colab-df-convert\" onclick=\"convertToInteractive('df-d63564e6-5670-4e10-a0a5-0bf968987cc4')\"\n",
              "            title=\"Convert this dataframe to an interactive table.\"\n",
              "            style=\"display:none;\">\n",
              "\n",
              "  <svg xmlns=\"http://www.w3.org/2000/svg\" height=\"24px\" viewBox=\"0 -960 960 960\">\n",
              "    <path d=\"M120-120v-720h720v720H120Zm60-500h600v-160H180v160Zm220 220h160v-160H400v160Zm0 220h160v-160H400v160ZM180-400h160v-160H180v160Zm440 0h160v-160H620v160ZM180-180h160v-160H180v160Zm440 0h160v-160H620v160Z\"/>\n",
              "  </svg>\n",
              "    </button>\n",
              "\n",
              "  <style>\n",
              "    .colab-df-container {\n",
              "      display:flex;\n",
              "      gap: 12px;\n",
              "    }\n",
              "\n",
              "    .colab-df-convert {\n",
              "      background-color: #E8F0FE;\n",
              "      border: none;\n",
              "      border-radius: 50%;\n",
              "      cursor: pointer;\n",
              "      display: none;\n",
              "      fill: #1967D2;\n",
              "      height: 32px;\n",
              "      padding: 0 0 0 0;\n",
              "      width: 32px;\n",
              "    }\n",
              "\n",
              "    .colab-df-convert:hover {\n",
              "      background-color: #E2EBFA;\n",
              "      box-shadow: 0px 1px 2px rgba(60, 64, 67, 0.3), 0px 1px 3px 1px rgba(60, 64, 67, 0.15);\n",
              "      fill: #174EA6;\n",
              "    }\n",
              "\n",
              "    .colab-df-buttons div {\n",
              "      margin-bottom: 4px;\n",
              "    }\n",
              "\n",
              "    [theme=dark] .colab-df-convert {\n",
              "      background-color: #3B4455;\n",
              "      fill: #D2E3FC;\n",
              "    }\n",
              "\n",
              "    [theme=dark] .colab-df-convert:hover {\n",
              "      background-color: #434B5C;\n",
              "      box-shadow: 0px 1px 3px 1px rgba(0, 0, 0, 0.15);\n",
              "      filter: drop-shadow(0px 1px 2px rgba(0, 0, 0, 0.3));\n",
              "      fill: #FFFFFF;\n",
              "    }\n",
              "  </style>\n",
              "\n",
              "    <script>\n",
              "      const buttonEl =\n",
              "        document.querySelector('#df-d63564e6-5670-4e10-a0a5-0bf968987cc4 button.colab-df-convert');\n",
              "      buttonEl.style.display =\n",
              "        google.colab.kernel.accessAllowed ? 'block' : 'none';\n",
              "\n",
              "      async function convertToInteractive(key) {\n",
              "        const element = document.querySelector('#df-d63564e6-5670-4e10-a0a5-0bf968987cc4');\n",
              "        const dataTable =\n",
              "          await google.colab.kernel.invokeFunction('convertToInteractive',\n",
              "                                                    [key], {});\n",
              "        if (!dataTable) return;\n",
              "\n",
              "        const docLinkHtml = 'Like what you see? Visit the ' +\n",
              "          '<a target=\"_blank\" href=https://colab.research.google.com/notebooks/data_table.ipynb>data table notebook</a>'\n",
              "          + ' to learn more about interactive tables.';\n",
              "        element.innerHTML = '';\n",
              "        dataTable['output_type'] = 'display_data';\n",
              "        await google.colab.output.renderOutput(dataTable, element);\n",
              "        const docLink = document.createElement('div');\n",
              "        docLink.innerHTML = docLinkHtml;\n",
              "        element.appendChild(docLink);\n",
              "      }\n",
              "    </script>\n",
              "  </div>\n",
              "\n",
              "\n",
              "<div id=\"df-803b0ff1-8266-4214-b4bc-c25b50721aa6\">\n",
              "  <button class=\"colab-df-quickchart\" onclick=\"quickchart('df-803b0ff1-8266-4214-b4bc-c25b50721aa6')\"\n",
              "            title=\"Suggest charts\"\n",
              "            style=\"display:none;\">\n",
              "\n",
              "<svg xmlns=\"http://www.w3.org/2000/svg\" height=\"24px\"viewBox=\"0 0 24 24\"\n",
              "     width=\"24px\">\n",
              "    <g>\n",
              "        <path d=\"M19 3H5c-1.1 0-2 .9-2 2v14c0 1.1.9 2 2 2h14c1.1 0 2-.9 2-2V5c0-1.1-.9-2-2-2zM9 17H7v-7h2v7zm4 0h-2V7h2v10zm4 0h-2v-4h2v4z\"/>\n",
              "    </g>\n",
              "</svg>\n",
              "  </button>\n",
              "\n",
              "<style>\n",
              "  .colab-df-quickchart {\n",
              "      --bg-color: #E8F0FE;\n",
              "      --fill-color: #1967D2;\n",
              "      --hover-bg-color: #E2EBFA;\n",
              "      --hover-fill-color: #174EA6;\n",
              "      --disabled-fill-color: #AAA;\n",
              "      --disabled-bg-color: #DDD;\n",
              "  }\n",
              "\n",
              "  [theme=dark] .colab-df-quickchart {\n",
              "      --bg-color: #3B4455;\n",
              "      --fill-color: #D2E3FC;\n",
              "      --hover-bg-color: #434B5C;\n",
              "      --hover-fill-color: #FFFFFF;\n",
              "      --disabled-bg-color: #3B4455;\n",
              "      --disabled-fill-color: #666;\n",
              "  }\n",
              "\n",
              "  .colab-df-quickchart {\n",
              "    background-color: var(--bg-color);\n",
              "    border: none;\n",
              "    border-radius: 50%;\n",
              "    cursor: pointer;\n",
              "    display: none;\n",
              "    fill: var(--fill-color);\n",
              "    height: 32px;\n",
              "    padding: 0;\n",
              "    width: 32px;\n",
              "  }\n",
              "\n",
              "  .colab-df-quickchart:hover {\n",
              "    background-color: var(--hover-bg-color);\n",
              "    box-shadow: 0 1px 2px rgba(60, 64, 67, 0.3), 0 1px 3px 1px rgba(60, 64, 67, 0.15);\n",
              "    fill: var(--button-hover-fill-color);\n",
              "  }\n",
              "\n",
              "  .colab-df-quickchart-complete:disabled,\n",
              "  .colab-df-quickchart-complete:disabled:hover {\n",
              "    background-color: var(--disabled-bg-color);\n",
              "    fill: var(--disabled-fill-color);\n",
              "    box-shadow: none;\n",
              "  }\n",
              "\n",
              "  .colab-df-spinner {\n",
              "    border: 2px solid var(--fill-color);\n",
              "    border-color: transparent;\n",
              "    border-bottom-color: var(--fill-color);\n",
              "    animation:\n",
              "      spin 1s steps(1) infinite;\n",
              "  }\n",
              "\n",
              "  @keyframes spin {\n",
              "    0% {\n",
              "      border-color: transparent;\n",
              "      border-bottom-color: var(--fill-color);\n",
              "      border-left-color: var(--fill-color);\n",
              "    }\n",
              "    20% {\n",
              "      border-color: transparent;\n",
              "      border-left-color: var(--fill-color);\n",
              "      border-top-color: var(--fill-color);\n",
              "    }\n",
              "    30% {\n",
              "      border-color: transparent;\n",
              "      border-left-color: var(--fill-color);\n",
              "      border-top-color: var(--fill-color);\n",
              "      border-right-color: var(--fill-color);\n",
              "    }\n",
              "    40% {\n",
              "      border-color: transparent;\n",
              "      border-right-color: var(--fill-color);\n",
              "      border-top-color: var(--fill-color);\n",
              "    }\n",
              "    60% {\n",
              "      border-color: transparent;\n",
              "      border-right-color: var(--fill-color);\n",
              "    }\n",
              "    80% {\n",
              "      border-color: transparent;\n",
              "      border-right-color: var(--fill-color);\n",
              "      border-bottom-color: var(--fill-color);\n",
              "    }\n",
              "    90% {\n",
              "      border-color: transparent;\n",
              "      border-bottom-color: var(--fill-color);\n",
              "    }\n",
              "  }\n",
              "</style>\n",
              "\n",
              "  <script>\n",
              "    async function quickchart(key) {\n",
              "      const quickchartButtonEl =\n",
              "        document.querySelector('#' + key + ' button');\n",
              "      quickchartButtonEl.disabled = true;  // To prevent multiple clicks.\n",
              "      quickchartButtonEl.classList.add('colab-df-spinner');\n",
              "      try {\n",
              "        const charts = await google.colab.kernel.invokeFunction(\n",
              "            'suggestCharts', [key], {});\n",
              "      } catch (error) {\n",
              "        console.error('Error during call to suggestCharts:', error);\n",
              "      }\n",
              "      quickchartButtonEl.classList.remove('colab-df-spinner');\n",
              "      quickchartButtonEl.classList.add('colab-df-quickchart-complete');\n",
              "    }\n",
              "    (() => {\n",
              "      let quickchartButtonEl =\n",
              "        document.querySelector('#df-803b0ff1-8266-4214-b4bc-c25b50721aa6 button');\n",
              "      quickchartButtonEl.style.display =\n",
              "        google.colab.kernel.accessAllowed ? 'block' : 'none';\n",
              "    })();\n",
              "  </script>\n",
              "</div>\n",
              "    </div>\n",
              "  </div>\n"
            ]
          },
          "metadata": {},
          "execution_count": 89
        }
      ]
    },
    {
      "cell_type": "code",
      "source": [
        "import nltk\n",
        "nltk.download('punkt')"
      ],
      "metadata": {
        "colab": {
          "base_uri": "https://localhost:8080/"
        },
        "id": "XwC2TZlieK2L",
        "outputId": "f58773da-b84f-49c0-bf87-42781c4f7514"
      },
      "execution_count": 90,
      "outputs": [
        {
          "output_type": "stream",
          "name": "stderr",
          "text": [
            "[nltk_data] Downloading package punkt to /root/nltk_data...\n",
            "[nltk_data]   Package punkt is already up-to-date!\n"
          ]
        },
        {
          "output_type": "execute_result",
          "data": {
            "text/plain": [
              "True"
            ]
          },
          "metadata": {},
          "execution_count": 90
        }
      ]
    },
    {
      "cell_type": "code",
      "source": [
        "sentence = [word_tokenize(Review.lower())for Review in tqdm(df.Review)]\n",
        "sentence[:5]"
      ],
      "metadata": {
        "colab": {
          "base_uri": "https://localhost:8080/",
          "height": 604,
          "referenced_widgets": [
            "789459d69d7140b69473d7b5a45b73f1",
            "8adf28e9160e46fa944cd1ce9f5fb259",
            "a54f7e6b6f0f428b92a1f2dc047252c0",
            "c58e35596d514490809eac84f60d5fae",
            "beda7bea047c454d901e67eddf57f05f",
            "4790a34177184203acd2bb94db3b5fe0",
            "368b23141b874bcba8cdbe84bb791e11",
            "490413dadada4b5e9bd6b7f7b9106127",
            "493c595906044d06b89ee2b529f248d8",
            "4c5f86de01464e90bc6ce20035f6bda4",
            "d4d2296776ff40a885333e5554260327"
          ]
        },
        "id": "PCpWmaT5P0ic",
        "outputId": "6be8bf65-932c-4bcf-c6f6-44e207a8520f"
      },
      "execution_count": 91,
      "outputs": [
        {
          "output_type": "display_data",
          "data": {
            "text/plain": [
              "  0%|          | 0/1000 [00:00<?, ?it/s]"
            ],
            "application/vnd.jupyter.widget-view+json": {
              "version_major": 2,
              "version_minor": 0,
              "model_id": "789459d69d7140b69473d7b5a45b73f1"
            }
          },
          "metadata": {}
        },
        {
          "output_type": "execute_result",
          "data": {
            "text/plain": [
              "[['wow', '...', 'loved', 'this', 'place', '.'],\n",
              " ['crust', 'is', 'not', 'good', '.'],\n",
              " ['not', 'tasty', 'and', 'the', 'texture', 'was', 'just', 'nasty', '.'],\n",
              " ['stopped',\n",
              "  'by',\n",
              "  'during',\n",
              "  'the',\n",
              "  'late',\n",
              "  'may',\n",
              "  'bank',\n",
              "  'holiday',\n",
              "  'off',\n",
              "  'rick',\n",
              "  'steve',\n",
              "  'recommendation',\n",
              "  'and',\n",
              "  'loved',\n",
              "  'it',\n",
              "  '.'],\n",
              " ['the',\n",
              "  'selection',\n",
              "  'on',\n",
              "  'the',\n",
              "  'menu',\n",
              "  'was',\n",
              "  'great',\n",
              "  'and',\n",
              "  'so',\n",
              "  'were',\n",
              "  'the',\n",
              "  'prices',\n",
              "  '.']]"
            ]
          },
          "metadata": {},
          "execution_count": 91
        }
      ]
    },
    {
      "cell_type": "code",
      "source": [
        "import nltk\n",
        "nltk.download('stopwords')"
      ],
      "metadata": {
        "colab": {
          "base_uri": "https://localhost:8080/"
        },
        "id": "ZIh9nMvNeSjK",
        "outputId": "2fb94b4e-93c2-474c-c77d-3a328a10a9f2"
      },
      "execution_count": 92,
      "outputs": [
        {
          "output_type": "stream",
          "name": "stderr",
          "text": [
            "[nltk_data] Downloading package stopwords to /root/nltk_data...\n",
            "[nltk_data]   Package stopwords is already up-to-date!\n"
          ]
        },
        {
          "output_type": "execute_result",
          "data": {
            "text/plain": [
              "True"
            ]
          },
          "metadata": {},
          "execution_count": 92
        }
      ]
    },
    {
      "cell_type": "code",
      "source": [
        "sw_english = stopwords.words(\"english\")+list(punctuation)"
      ],
      "metadata": {
        "id": "AkY0X7t7B5Jd"
      },
      "execution_count": 93,
      "outputs": []
    },
    {
      "cell_type": "markdown",
      "source": [
        "TRAIN MODEL"
      ],
      "metadata": {
        "id": "lfUETJu6QaSm"
      }
    },
    {
      "cell_type": "code",
      "source": [
        "model = FastText(sentence, vector_size=100, window = 5, min_count=5, workers=3, epochs= 1000, sg=0, hs=0)"
      ],
      "metadata": {
        "id": "CzxMeUBTP8eZ"
      },
      "execution_count": 94,
      "outputs": []
    },
    {
      "cell_type": "code",
      "source": [
        "os.makedirs(\"model/fasttext/\", exist_ok = True)"
      ],
      "metadata": {
        "id": "09euqC3AP26o"
      },
      "execution_count": 95,
      "outputs": []
    },
    {
      "cell_type": "code",
      "source": [
        "model.save(\"model/fasttext/review.fasttext\")"
      ],
      "metadata": {
        "id": "ZbZaKYH5QPPr"
      },
      "execution_count": 96,
      "outputs": []
    },
    {
      "cell_type": "markdown",
      "source": [
        "LOAD MODEL"
      ],
      "metadata": {
        "id": "-f1W4LdRQdRP"
      }
    },
    {
      "cell_type": "code",
      "source": [
        "model = FastText.load(\"model/fasttext/review.fasttext\")"
      ],
      "metadata": {
        "id": "Bd_eSzq2QXA5"
      },
      "execution_count": 97,
      "outputs": []
    },
    {
      "cell_type": "markdown",
      "source": [
        "CONTINUE TRAINING"
      ],
      "metadata": {
        "id": "62MtkF5nQ43R"
      }
    },
    {
      "cell_type": "code",
      "source": [
        "text = \"the room is clean, and the waiter is quite friendly\""
      ],
      "metadata": {
        "id": "MO2iyXc-Q1iA"
      },
      "execution_count": 98,
      "outputs": []
    },
    {
      "cell_type": "code",
      "source": [
        "ex = word_tokenize(text)\n",
        "ex"
      ],
      "metadata": {
        "colab": {
          "base_uri": "https://localhost:8080/"
        },
        "id": "snnl6ZYiQ7_x",
        "outputId": "4561d5f8-2879-4267-d814-2f2fae0082f4"
      },
      "execution_count": 99,
      "outputs": [
        {
          "output_type": "execute_result",
          "data": {
            "text/plain": [
              "['the',\n",
              " 'room',\n",
              " 'is',\n",
              " 'clean',\n",
              " ',',\n",
              " 'and',\n",
              " 'the',\n",
              " 'waiter',\n",
              " 'is',\n",
              " 'quite',\n",
              " 'friendly']"
            ]
          },
          "metadata": {},
          "execution_count": 99
        }
      ]
    },
    {
      "cell_type": "code",
      "source": [
        "ex_data = [ 'the','room','is','clean',',','and','the','waiter','is','quite','friendly']"
      ],
      "metadata": {
        "id": "b7LS1LrFQ-ot"
      },
      "execution_count": 100,
      "outputs": []
    },
    {
      "cell_type": "code",
      "source": [
        "model.train(ex_data, total_examples = len (ex_data), epochs=1)"
      ],
      "metadata": {
        "colab": {
          "base_uri": "https://localhost:8080/"
        },
        "id": "N2Hkv73PRCqx",
        "outputId": "3e1ca7e9-0b68-44eb-a1b5-a1f9ebb7981d"
      },
      "execution_count": 101,
      "outputs": [
        {
          "output_type": "stream",
          "name": "stderr",
          "text": [
            "WARNING:gensim.models.word2vec:Effective 'alpha' higher than previous training cycles\n"
          ]
        },
        {
          "output_type": "execute_result",
          "data": {
            "text/plain": [
              "(2, 42)"
            ]
          },
          "metadata": {},
          "execution_count": 101
        }
      ]
    },
    {
      "cell_type": "code",
      "source": [
        "model.save(\"model/fasttext/review.fasttext\")"
      ],
      "metadata": {
        "id": "eE01vV5YR3P8"
      },
      "execution_count": 102,
      "outputs": []
    },
    {
      "cell_type": "code",
      "source": [
        "fasttext = model.wv"
      ],
      "metadata": {
        "id": "24M_mjTgSD7s"
      },
      "execution_count": 103,
      "outputs": []
    },
    {
      "cell_type": "code",
      "source": [
        "fasttext.index_to_key"
      ],
      "metadata": {
        "colab": {
          "base_uri": "https://localhost:8080/"
        },
        "id": "dKnE8dmzS6JZ",
        "outputId": "c7d3a2d7-0aad-48b9-8014-1f18a9df95c3"
      },
      "execution_count": 104,
      "outputs": [
        {
          "output_type": "execute_result",
          "data": {
            "text/plain": [
              "['.',\n",
              " 'the',\n",
              " 'and',\n",
              " ',',\n",
              " 'i',\n",
              " 'was',\n",
              " '!',\n",
              " 'a',\n",
              " 'to',\n",
              " 'is',\n",
              " 'it',\n",
              " 'this',\n",
              " 'of',\n",
              " 'food',\n",
              " 'not',\n",
              " 'for',\n",
              " 'in',\n",
              " 'place',\n",
              " \"n't\",\n",
              " 'good',\n",
              " 'we',\n",
              " 'service',\n",
              " 'very',\n",
              " 'my',\n",
              " 'with',\n",
              " 'had',\n",
              " 'great',\n",
              " 'that',\n",
              " 'be',\n",
              " 'so',\n",
              " 'you',\n",
              " 'are',\n",
              " 'were',\n",
              " 'have',\n",
              " 'but',\n",
              " 'back',\n",
              " 'they',\n",
              " 'here',\n",
              " 'at',\n",
              " 'on',\n",
              " 'like',\n",
              " 'all',\n",
              " 'go',\n",
              " 'time',\n",
              " 'our',\n",
              " \"'s\",\n",
              " 'do',\n",
              " 'will',\n",
              " 'there',\n",
              " 'really',\n",
              " 'as',\n",
              " 'did',\n",
              " 'just',\n",
              " 'an',\n",
              " 'would',\n",
              " 'their',\n",
              " 'best',\n",
              " 'if',\n",
              " '...',\n",
              " 'ever',\n",
              " 'also',\n",
              " 'friendly',\n",
              " 'only',\n",
              " 'never',\n",
              " 'one',\n",
              " 'up',\n",
              " 'restaurant',\n",
              " 'no',\n",
              " 'your',\n",
              " 'nice',\n",
              " 'out',\n",
              " 'from',\n",
              " 'amazing',\n",
              " 'again',\n",
              " 'what',\n",
              " \"'ve\",\n",
              " 'been',\n",
              " 'delicious',\n",
              " 'vegas',\n",
              " 'which',\n",
              " '-',\n",
              " 'by',\n",
              " 'came',\n",
              " 'me',\n",
              " 'some',\n",
              " \"'m\",\n",
              " 'experience',\n",
              " 'when',\n",
              " 'pretty',\n",
              " 'minutes',\n",
              " 'love',\n",
              " 'he',\n",
              " 'could',\n",
              " 'get',\n",
              " 'staff',\n",
              " 'us',\n",
              " 'eat',\n",
              " 'disappointed',\n",
              " 'or',\n",
              " 'wo',\n",
              " 'definitely',\n",
              " 'even',\n",
              " ')',\n",
              " 'much',\n",
              " 'got',\n",
              " 'bad',\n",
              " 'going',\n",
              " 'made',\n",
              " 'first',\n",
              " 'chicken',\n",
              " 'about',\n",
              " 'can',\n",
              " 'more',\n",
              " '(',\n",
              " 'has',\n",
              " 'better',\n",
              " 'say',\n",
              " 'think',\n",
              " 'always',\n",
              " 'way',\n",
              " 'than',\n",
              " 'well',\n",
              " 'stars',\n",
              " 'how',\n",
              " 'too',\n",
              " 'pizza',\n",
              " 'salad',\n",
              " 'worst',\n",
              " 'steak',\n",
              " 'wait',\n",
              " 'other',\n",
              " 'ordered',\n",
              " 'menu',\n",
              " 'fresh',\n",
              " 'because',\n",
              " 'being',\n",
              " 'them',\n",
              " \"''\",\n",
              " 'taste',\n",
              " 'times',\n",
              " '``',\n",
              " 'went',\n",
              " 'server',\n",
              " \"'ll\",\n",
              " 'sushi',\n",
              " 'quality',\n",
              " 'want',\n",
              " 'flavor',\n",
              " 'now',\n",
              " 'any',\n",
              " 'burger',\n",
              " 'after',\n",
              " 'awesome',\n",
              " 'fantastic',\n",
              " 'night',\n",
              " 'enough',\n",
              " '&',\n",
              " 'recommend',\n",
              " 'meal',\n",
              " 'tasty',\n",
              " 'still',\n",
              " 'slow',\n",
              " 'come',\n",
              " 'everything',\n",
              " 'feel',\n",
              " 'next',\n",
              " 'know',\n",
              " 'bland',\n",
              " 'buffet',\n",
              " 'order',\n",
              " 'worth',\n",
              " 'little',\n",
              " 'selection',\n",
              " 'loved',\n",
              " 'prices',\n",
              " 'sauce',\n",
              " 'atmosphere',\n",
              " 'another',\n",
              " 'perfect',\n",
              " 'terrible',\n",
              " 'waited',\n",
              " ':',\n",
              " 'coming',\n",
              " 'excellent',\n",
              " 'probably',\n",
              " 'breakfast',\n",
              " 'dishes',\n",
              " 'ca',\n",
              " 'many',\n",
              " 'people',\n",
              " 'lunch',\n",
              " 'off',\n",
              " 'table',\n",
              " 'sandwich',\n",
              " 'every',\n",
              " 'right',\n",
              " 'then',\n",
              " 'before',\n",
              " \"'d\",\n",
              " 'meat',\n",
              " 'fries',\n",
              " 'clean',\n",
              " 'soon',\n",
              " 'down',\n",
              " 'give',\n",
              " 'she',\n",
              " 'over',\n",
              " 'day',\n",
              " 'hot',\n",
              " 'cold',\n",
              " 'dining',\n",
              " 'overall',\n",
              " 'spicy',\n",
              " 'take',\n",
              " 'two',\n",
              " 'beer',\n",
              " 'while',\n",
              " 'rude',\n",
              " 'around',\n",
              " 'bit',\n",
              " 'took',\n",
              " 'since',\n",
              " 'who',\n",
              " 'said',\n",
              " 'make',\n",
              " 'few',\n",
              " 'getting',\n",
              " 'sure',\n",
              " 'happy',\n",
              " 'spot',\n",
              " 'waitress',\n",
              " 'impressed',\n",
              " 'felt',\n",
              " 'try',\n",
              " '$',\n",
              " 'tasted',\n",
              " 'thing',\n",
              " '5',\n",
              " 'both',\n",
              " 'absolutely',\n",
              " 'quite',\n",
              " 'dish',\n",
              " '2',\n",
              " 'waiter',\n",
              " 'nothing',\n",
              " 'side',\n",
              " 'inside',\n",
              " 'family',\n",
              " 'should',\n",
              " 'bar',\n",
              " 'seriously',\n",
              " 'special',\n",
              " 'cooked',\n",
              " 'tried',\n",
              " 'overpriced',\n",
              " 'wonderful',\n",
              " 'once',\n",
              " 'super',\n",
              " 'chips',\n",
              " 'far',\n",
              " 'ambiance',\n",
              " 'deal',\n",
              " 'attentive',\n",
              " 'price',\n",
              " 'found',\n",
              " 'town',\n",
              " 'eating',\n",
              " 'lot',\n",
              " 'tender',\n",
              " 'either',\n",
              " 'twice',\n",
              " 'each',\n",
              " 'enjoy',\n",
              " 'must',\n",
              " 'last',\n",
              " 'see',\n",
              " '?',\n",
              " 'small',\n",
              " 'her',\n",
              " 'his',\n",
              " 'hard',\n",
              " \"'re\",\n",
              " 'tell',\n",
              " 'horrible',\n",
              " 'authentic',\n",
              " 'dinner',\n",
              " 'am',\n",
              " 'pho',\n",
              " 'warm',\n",
              " 'poor',\n",
              " 'check',\n",
              " 'mediocre',\n",
              " 'served',\n",
              " 'management',\n",
              " 'potato',\n",
              " 'hour',\n",
              " 'where',\n",
              " 'left',\n",
              " 'done',\n",
              " 'money',\n",
              " 'waiting',\n",
              " 'fast',\n",
              " 'wrong',\n",
              " 'long',\n",
              " 'enjoyed',\n",
              " 'bring',\n",
              " 'reasonable',\n",
              " 'may',\n",
              " 'new',\n",
              " 'during',\n",
              " 'things',\n",
              " 'anytime',\n",
              " 'fried',\n",
              " 'expect',\n",
              " 'friend',\n",
              " 'hit',\n",
              " 'home',\n",
              " 'real',\n",
              " 'portions',\n",
              " 'disappointing',\n",
              " 'old',\n",
              " 'shrimp',\n",
              " 'these',\n",
              " 'sick',\n",
              " 'dessert',\n",
              " 'beef',\n",
              " 'sweet',\n",
              " 'customer',\n",
              " 'outside',\n",
              " '30',\n",
              " 'talk',\n",
              " 'fish',\n",
              " 'huge',\n",
              " 'servers',\n",
              " 'seafood',\n",
              " 'pasta',\n",
              " 'tasteless',\n",
              " 'quick',\n",
              " 'thai',\n",
              " 'bread',\n",
              " 'tables',\n",
              " 'kept',\n",
              " 'ice',\n",
              " 'sat',\n",
              " 'zero',\n",
              " 'bacon',\n",
              " 'area',\n",
              " 'full',\n",
              " 'avoid',\n",
              " 'seated',\n",
              " 'extremely',\n",
              " 'return',\n",
              " '..',\n",
              " '....',\n",
              " 'waste',\n",
              " 'away',\n",
              " 'asked',\n",
              " 'thought',\n",
              " 'places',\n",
              " 'eaten',\n",
              " 'barely']"
            ]
          },
          "metadata": {},
          "execution_count": 104
        }
      ]
    },
    {
      "cell_type": "code",
      "source": [
        "fasttext.vector_size"
      ],
      "metadata": {
        "colab": {
          "base_uri": "https://localhost:8080/"
        },
        "id": "Vgf5GQiHSv0N",
        "outputId": "05dd79c6-a48d-4f2c-e320-0f3d6f93508d"
      },
      "execution_count": 105,
      "outputs": [
        {
          "output_type": "execute_result",
          "data": {
            "text/plain": [
              "100"
            ]
          },
          "metadata": {},
          "execution_count": 105
        }
      ]
    },
    {
      "cell_type": "code",
      "source": [
        "fasttext[\"you\"]"
      ],
      "metadata": {
        "colab": {
          "base_uri": "https://localhost:8080/"
        },
        "id": "_t7ubLWNTKJw",
        "outputId": "2863c486-1e31-4c0a-c7b9-0ecc6a0f6713"
      },
      "execution_count": 106,
      "outputs": [
        {
          "output_type": "execute_result",
          "data": {
            "text/plain": [
              "array([ 1.6750003 ,  1.2348789 , -2.2004802 ,  1.5113909 , -2.1299841 ,\n",
              "       -0.49002632, -1.0284618 ,  0.07292441, -0.34605223,  1.1594588 ,\n",
              "        0.28358394, -1.1251272 ,  0.31670746, -1.1123713 ,  2.5418792 ,\n",
              "       -3.279007  ,  3.6880589 ,  1.309952  ,  3.7992103 , -2.3476505 ,\n",
              "       -2.4444096 , -1.9673129 ,  1.8605852 ,  2.2094963 , -3.0978055 ,\n",
              "       -0.35688093, -1.6378862 ,  4.607179  , -1.1499704 , -2.0450957 ,\n",
              "        3.9033673 , -0.7783786 ,  0.28763482, -0.86265725, -2.1290338 ,\n",
              "       -5.2868876 , -2.6560097 , -1.1335669 , -2.2487082 ,  0.9858163 ,\n",
              "        2.56134   , -0.01091552, -3.912554  , -2.2010992 ,  0.16952553,\n",
              "       -0.48627266, -1.6166884 ,  0.13240348, -4.123955  ,  0.36121663,\n",
              "        0.28145036,  1.9556249 , -2.2842636 ,  0.6140413 ,  2.567588  ,\n",
              "        2.1921008 ,  1.0969254 , -0.30068526, -3.1036694 , -1.7368023 ,\n",
              "        1.0973662 ,  1.0453936 , -1.618537  ,  1.5664046 ,  0.765274  ,\n",
              "       -3.4157448 ,  1.3223035 ,  1.3894358 ,  0.39326075, -1.8389568 ,\n",
              "       -4.104731  ,  1.3956507 , -1.0354663 , -0.4615546 ,  1.9828137 ,\n",
              "        1.4106346 , -1.4359322 , -0.5058433 , -0.40833727, -0.19898999,\n",
              "       -2.3879335 ,  2.584658  , -2.0248415 , -1.3292913 ,  0.6799317 ,\n",
              "        2.378497  ,  1.1735885 ,  2.1768017 , -0.73309624,  1.9786108 ,\n",
              "        2.1714728 , -0.34053868, -2.3669403 , -3.5703404 ,  2.189597  ,\n",
              "        0.96212465,  2.7401624 ,  4.971597  , -2.4996464 , -1.0574998 ],\n",
              "      dtype=float32)"
            ]
          },
          "metadata": {},
          "execution_count": 106
        }
      ]
    },
    {
      "cell_type": "markdown",
      "source": [
        "SANITY CHECK"
      ],
      "metadata": {
        "id": "F9SD3VEoTTAZ"
      }
    },
    {
      "cell_type": "code",
      "source": [
        "fasttext.similar_by_word(\"place\", topn=5)"
      ],
      "metadata": {
        "colab": {
          "base_uri": "https://localhost:8080/"
        },
        "id": "JEX6sTLKTQe5",
        "outputId": "0c58b061-b52e-49c8-9627-8cd538249519"
      },
      "execution_count": 107,
      "outputs": [
        {
          "output_type": "execute_result",
          "data": {
            "text/plain": [
              "[('places', 0.4924805462360382),\n",
              " ('restaurant', 0.25637805461883545),\n",
              " ('expect', 0.2550533413887024),\n",
              " ('even', 0.25121232867240906),\n",
              " ('inside', 0.23768866062164307)]"
            ]
          },
          "metadata": {},
          "execution_count": 107
        }
      ]
    },
    {
      "cell_type": "code",
      "source": [
        "pip install umap-learn"
      ],
      "metadata": {
        "colab": {
          "base_uri": "https://localhost:8080/"
        },
        "id": "r64PSAAiTi2e",
        "outputId": "b76010e8-1aff-43c3-c711-de0b81599cb9"
      },
      "execution_count": 108,
      "outputs": [
        {
          "output_type": "stream",
          "name": "stdout",
          "text": [
            "Requirement already satisfied: umap-learn in /usr/local/lib/python3.10/dist-packages (0.5.5)\n",
            "Requirement already satisfied: numpy>=1.17 in /usr/local/lib/python3.10/dist-packages (from umap-learn) (1.23.5)\n",
            "Requirement already satisfied: scipy>=1.3.1 in /usr/local/lib/python3.10/dist-packages (from umap-learn) (1.11.4)\n",
            "Requirement already satisfied: scikit-learn>=0.22 in /usr/local/lib/python3.10/dist-packages (from umap-learn) (1.2.2)\n",
            "Requirement already satisfied: numba>=0.51.2 in /usr/local/lib/python3.10/dist-packages (from umap-learn) (0.58.1)\n",
            "Requirement already satisfied: pynndescent>=0.5 in /usr/local/lib/python3.10/dist-packages (from umap-learn) (0.5.11)\n",
            "Requirement already satisfied: tqdm in /usr/local/lib/python3.10/dist-packages (from umap-learn) (4.66.1)\n",
            "Requirement already satisfied: llvmlite<0.42,>=0.41.0dev0 in /usr/local/lib/python3.10/dist-packages (from numba>=0.51.2->umap-learn) (0.41.1)\n",
            "Requirement already satisfied: joblib>=0.11 in /usr/local/lib/python3.10/dist-packages (from pynndescent>=0.5->umap-learn) (1.3.2)\n",
            "Requirement already satisfied: threadpoolctl>=2.0.0 in /usr/local/lib/python3.10/dist-packages (from scikit-learn>=0.22->umap-learn) (3.2.0)\n"
          ]
        }
      ]
    },
    {
      "cell_type": "code",
      "source": [
        "from umap import UMAP"
      ],
      "metadata": {
        "id": "KFdJHvvGTmSX"
      },
      "execution_count": 109,
      "outputs": []
    },
    {
      "cell_type": "code",
      "source": [
        "import plotly.express as px"
      ],
      "metadata": {
        "id": "rJRMzvShTpnv"
      },
      "execution_count": 110,
      "outputs": []
    },
    {
      "cell_type": "code",
      "source": [
        "X = UMAP().fit_transform(fasttext.vectors)"
      ],
      "metadata": {
        "id": "9-Tz4iDaV-8r"
      },
      "execution_count": 111,
      "outputs": []
    },
    {
      "cell_type": "code",
      "source": [
        "data = pd.DataFrame(X, columns=[\"umap1\", \"umap2\"])\n",
        "data[\"text\"] = fasttext.index_to_key"
      ],
      "metadata": {
        "id": "7zIIuditWN8D"
      },
      "execution_count": 112,
      "outputs": []
    },
    {
      "cell_type": "code",
      "source": [
        "data"
      ],
      "metadata": {
        "colab": {
          "base_uri": "https://localhost:8080/",
          "height": 423
        },
        "id": "2XE8_F4cWZma",
        "outputId": "cf0410c3-9ede-4729-a4a8-cf71c2cdc872"
      },
      "execution_count": 113,
      "outputs": [
        {
          "output_type": "execute_result",
          "data": {
            "text/plain": [
              "        umap1     umap2     text\n",
              "0    6.749947  8.124883        .\n",
              "1    6.307849  8.215166      the\n",
              "2    7.041968  7.587590      and\n",
              "3    6.228813  8.178950        ,\n",
              "4    5.615221  7.850893        i\n",
              "..        ...       ...      ...\n",
              "356  8.299078  8.761525    asked\n",
              "357  5.582867  7.616400  thought\n",
              "358  4.438892  7.125135   places\n",
              "359  7.582119  6.351660    eaten\n",
              "360  7.230760  6.725754   barely\n",
              "\n",
              "[361 rows x 3 columns]"
            ],
            "text/html": [
              "\n",
              "  <div id=\"df-b23cbc3d-7f75-434d-a630-6104e78fa69b\" class=\"colab-df-container\">\n",
              "    <div>\n",
              "<style scoped>\n",
              "    .dataframe tbody tr th:only-of-type {\n",
              "        vertical-align: middle;\n",
              "    }\n",
              "\n",
              "    .dataframe tbody tr th {\n",
              "        vertical-align: top;\n",
              "    }\n",
              "\n",
              "    .dataframe thead th {\n",
              "        text-align: right;\n",
              "    }\n",
              "</style>\n",
              "<table border=\"1\" class=\"dataframe\">\n",
              "  <thead>\n",
              "    <tr style=\"text-align: right;\">\n",
              "      <th></th>\n",
              "      <th>umap1</th>\n",
              "      <th>umap2</th>\n",
              "      <th>text</th>\n",
              "    </tr>\n",
              "  </thead>\n",
              "  <tbody>\n",
              "    <tr>\n",
              "      <th>0</th>\n",
              "      <td>6.749947</td>\n",
              "      <td>8.124883</td>\n",
              "      <td>.</td>\n",
              "    </tr>\n",
              "    <tr>\n",
              "      <th>1</th>\n",
              "      <td>6.307849</td>\n",
              "      <td>8.215166</td>\n",
              "      <td>the</td>\n",
              "    </tr>\n",
              "    <tr>\n",
              "      <th>2</th>\n",
              "      <td>7.041968</td>\n",
              "      <td>7.587590</td>\n",
              "      <td>and</td>\n",
              "    </tr>\n",
              "    <tr>\n",
              "      <th>3</th>\n",
              "      <td>6.228813</td>\n",
              "      <td>8.178950</td>\n",
              "      <td>,</td>\n",
              "    </tr>\n",
              "    <tr>\n",
              "      <th>4</th>\n",
              "      <td>5.615221</td>\n",
              "      <td>7.850893</td>\n",
              "      <td>i</td>\n",
              "    </tr>\n",
              "    <tr>\n",
              "      <th>...</th>\n",
              "      <td>...</td>\n",
              "      <td>...</td>\n",
              "      <td>...</td>\n",
              "    </tr>\n",
              "    <tr>\n",
              "      <th>356</th>\n",
              "      <td>8.299078</td>\n",
              "      <td>8.761525</td>\n",
              "      <td>asked</td>\n",
              "    </tr>\n",
              "    <tr>\n",
              "      <th>357</th>\n",
              "      <td>5.582867</td>\n",
              "      <td>7.616400</td>\n",
              "      <td>thought</td>\n",
              "    </tr>\n",
              "    <tr>\n",
              "      <th>358</th>\n",
              "      <td>4.438892</td>\n",
              "      <td>7.125135</td>\n",
              "      <td>places</td>\n",
              "    </tr>\n",
              "    <tr>\n",
              "      <th>359</th>\n",
              "      <td>7.582119</td>\n",
              "      <td>6.351660</td>\n",
              "      <td>eaten</td>\n",
              "    </tr>\n",
              "    <tr>\n",
              "      <th>360</th>\n",
              "      <td>7.230760</td>\n",
              "      <td>6.725754</td>\n",
              "      <td>barely</td>\n",
              "    </tr>\n",
              "  </tbody>\n",
              "</table>\n",
              "<p>361 rows × 3 columns</p>\n",
              "</div>\n",
              "    <div class=\"colab-df-buttons\">\n",
              "\n",
              "  <div class=\"colab-df-container\">\n",
              "    <button class=\"colab-df-convert\" onclick=\"convertToInteractive('df-b23cbc3d-7f75-434d-a630-6104e78fa69b')\"\n",
              "            title=\"Convert this dataframe to an interactive table.\"\n",
              "            style=\"display:none;\">\n",
              "\n",
              "  <svg xmlns=\"http://www.w3.org/2000/svg\" height=\"24px\" viewBox=\"0 -960 960 960\">\n",
              "    <path d=\"M120-120v-720h720v720H120Zm60-500h600v-160H180v160Zm220 220h160v-160H400v160Zm0 220h160v-160H400v160ZM180-400h160v-160H180v160Zm440 0h160v-160H620v160ZM180-180h160v-160H180v160Zm440 0h160v-160H620v160Z\"/>\n",
              "  </svg>\n",
              "    </button>\n",
              "\n",
              "  <style>\n",
              "    .colab-df-container {\n",
              "      display:flex;\n",
              "      gap: 12px;\n",
              "    }\n",
              "\n",
              "    .colab-df-convert {\n",
              "      background-color: #E8F0FE;\n",
              "      border: none;\n",
              "      border-radius: 50%;\n",
              "      cursor: pointer;\n",
              "      display: none;\n",
              "      fill: #1967D2;\n",
              "      height: 32px;\n",
              "      padding: 0 0 0 0;\n",
              "      width: 32px;\n",
              "    }\n",
              "\n",
              "    .colab-df-convert:hover {\n",
              "      background-color: #E2EBFA;\n",
              "      box-shadow: 0px 1px 2px rgba(60, 64, 67, 0.3), 0px 1px 3px 1px rgba(60, 64, 67, 0.15);\n",
              "      fill: #174EA6;\n",
              "    }\n",
              "\n",
              "    .colab-df-buttons div {\n",
              "      margin-bottom: 4px;\n",
              "    }\n",
              "\n",
              "    [theme=dark] .colab-df-convert {\n",
              "      background-color: #3B4455;\n",
              "      fill: #D2E3FC;\n",
              "    }\n",
              "\n",
              "    [theme=dark] .colab-df-convert:hover {\n",
              "      background-color: #434B5C;\n",
              "      box-shadow: 0px 1px 3px 1px rgba(0, 0, 0, 0.15);\n",
              "      filter: drop-shadow(0px 1px 2px rgba(0, 0, 0, 0.3));\n",
              "      fill: #FFFFFF;\n",
              "    }\n",
              "  </style>\n",
              "\n",
              "    <script>\n",
              "      const buttonEl =\n",
              "        document.querySelector('#df-b23cbc3d-7f75-434d-a630-6104e78fa69b button.colab-df-convert');\n",
              "      buttonEl.style.display =\n",
              "        google.colab.kernel.accessAllowed ? 'block' : 'none';\n",
              "\n",
              "      async function convertToInteractive(key) {\n",
              "        const element = document.querySelector('#df-b23cbc3d-7f75-434d-a630-6104e78fa69b');\n",
              "        const dataTable =\n",
              "          await google.colab.kernel.invokeFunction('convertToInteractive',\n",
              "                                                    [key], {});\n",
              "        if (!dataTable) return;\n",
              "\n",
              "        const docLinkHtml = 'Like what you see? Visit the ' +\n",
              "          '<a target=\"_blank\" href=https://colab.research.google.com/notebooks/data_table.ipynb>data table notebook</a>'\n",
              "          + ' to learn more about interactive tables.';\n",
              "        element.innerHTML = '';\n",
              "        dataTable['output_type'] = 'display_data';\n",
              "        await google.colab.output.renderOutput(dataTable, element);\n",
              "        const docLink = document.createElement('div');\n",
              "        docLink.innerHTML = docLinkHtml;\n",
              "        element.appendChild(docLink);\n",
              "      }\n",
              "    </script>\n",
              "  </div>\n",
              "\n",
              "\n",
              "<div id=\"df-a0632bce-58e2-4f12-b8fc-48f034f6ee4e\">\n",
              "  <button class=\"colab-df-quickchart\" onclick=\"quickchart('df-a0632bce-58e2-4f12-b8fc-48f034f6ee4e')\"\n",
              "            title=\"Suggest charts\"\n",
              "            style=\"display:none;\">\n",
              "\n",
              "<svg xmlns=\"http://www.w3.org/2000/svg\" height=\"24px\"viewBox=\"0 0 24 24\"\n",
              "     width=\"24px\">\n",
              "    <g>\n",
              "        <path d=\"M19 3H5c-1.1 0-2 .9-2 2v14c0 1.1.9 2 2 2h14c1.1 0 2-.9 2-2V5c0-1.1-.9-2-2-2zM9 17H7v-7h2v7zm4 0h-2V7h2v10zm4 0h-2v-4h2v4z\"/>\n",
              "    </g>\n",
              "</svg>\n",
              "  </button>\n",
              "\n",
              "<style>\n",
              "  .colab-df-quickchart {\n",
              "      --bg-color: #E8F0FE;\n",
              "      --fill-color: #1967D2;\n",
              "      --hover-bg-color: #E2EBFA;\n",
              "      --hover-fill-color: #174EA6;\n",
              "      --disabled-fill-color: #AAA;\n",
              "      --disabled-bg-color: #DDD;\n",
              "  }\n",
              "\n",
              "  [theme=dark] .colab-df-quickchart {\n",
              "      --bg-color: #3B4455;\n",
              "      --fill-color: #D2E3FC;\n",
              "      --hover-bg-color: #434B5C;\n",
              "      --hover-fill-color: #FFFFFF;\n",
              "      --disabled-bg-color: #3B4455;\n",
              "      --disabled-fill-color: #666;\n",
              "  }\n",
              "\n",
              "  .colab-df-quickchart {\n",
              "    background-color: var(--bg-color);\n",
              "    border: none;\n",
              "    border-radius: 50%;\n",
              "    cursor: pointer;\n",
              "    display: none;\n",
              "    fill: var(--fill-color);\n",
              "    height: 32px;\n",
              "    padding: 0;\n",
              "    width: 32px;\n",
              "  }\n",
              "\n",
              "  .colab-df-quickchart:hover {\n",
              "    background-color: var(--hover-bg-color);\n",
              "    box-shadow: 0 1px 2px rgba(60, 64, 67, 0.3), 0 1px 3px 1px rgba(60, 64, 67, 0.15);\n",
              "    fill: var(--button-hover-fill-color);\n",
              "  }\n",
              "\n",
              "  .colab-df-quickchart-complete:disabled,\n",
              "  .colab-df-quickchart-complete:disabled:hover {\n",
              "    background-color: var(--disabled-bg-color);\n",
              "    fill: var(--disabled-fill-color);\n",
              "    box-shadow: none;\n",
              "  }\n",
              "\n",
              "  .colab-df-spinner {\n",
              "    border: 2px solid var(--fill-color);\n",
              "    border-color: transparent;\n",
              "    border-bottom-color: var(--fill-color);\n",
              "    animation:\n",
              "      spin 1s steps(1) infinite;\n",
              "  }\n",
              "\n",
              "  @keyframes spin {\n",
              "    0% {\n",
              "      border-color: transparent;\n",
              "      border-bottom-color: var(--fill-color);\n",
              "      border-left-color: var(--fill-color);\n",
              "    }\n",
              "    20% {\n",
              "      border-color: transparent;\n",
              "      border-left-color: var(--fill-color);\n",
              "      border-top-color: var(--fill-color);\n",
              "    }\n",
              "    30% {\n",
              "      border-color: transparent;\n",
              "      border-left-color: var(--fill-color);\n",
              "      border-top-color: var(--fill-color);\n",
              "      border-right-color: var(--fill-color);\n",
              "    }\n",
              "    40% {\n",
              "      border-color: transparent;\n",
              "      border-right-color: var(--fill-color);\n",
              "      border-top-color: var(--fill-color);\n",
              "    }\n",
              "    60% {\n",
              "      border-color: transparent;\n",
              "      border-right-color: var(--fill-color);\n",
              "    }\n",
              "    80% {\n",
              "      border-color: transparent;\n",
              "      border-right-color: var(--fill-color);\n",
              "      border-bottom-color: var(--fill-color);\n",
              "    }\n",
              "    90% {\n",
              "      border-color: transparent;\n",
              "      border-bottom-color: var(--fill-color);\n",
              "    }\n",
              "  }\n",
              "</style>\n",
              "\n",
              "  <script>\n",
              "    async function quickchart(key) {\n",
              "      const quickchartButtonEl =\n",
              "        document.querySelector('#' + key + ' button');\n",
              "      quickchartButtonEl.disabled = true;  // To prevent multiple clicks.\n",
              "      quickchartButtonEl.classList.add('colab-df-spinner');\n",
              "      try {\n",
              "        const charts = await google.colab.kernel.invokeFunction(\n",
              "            'suggestCharts', [key], {});\n",
              "      } catch (error) {\n",
              "        console.error('Error during call to suggestCharts:', error);\n",
              "      }\n",
              "      quickchartButtonEl.classList.remove('colab-df-spinner');\n",
              "      quickchartButtonEl.classList.add('colab-df-quickchart-complete');\n",
              "    }\n",
              "    (() => {\n",
              "      let quickchartButtonEl =\n",
              "        document.querySelector('#df-a0632bce-58e2-4f12-b8fc-48f034f6ee4e button');\n",
              "      quickchartButtonEl.style.display =\n",
              "        google.colab.kernel.accessAllowed ? 'block' : 'none';\n",
              "    })();\n",
              "  </script>\n",
              "</div>\n",
              "    </div>\n",
              "  </div>\n"
            ]
          },
          "metadata": {},
          "execution_count": 113
        }
      ]
    },
    {
      "cell_type": "code",
      "source": [
        "fig = px.scatter(data, x=\"umap1\", y = \"umap2\", text =\"text\")\n",
        "fig.update_traces(textposition='top center')\n",
        "fig.update_layout(\n",
        "    height=800,\n",
        "    title_text='Reduce W2V'\n",
        ")\n",
        "fig.show()"
      ],
      "metadata": {
        "colab": {
          "base_uri": "https://localhost:8080/",
          "height": 817
        },
        "id": "5gsFZHcFWcgS",
        "outputId": "ee750018-0c4a-418e-c133-52919b2d4a7d"
      },
      "execution_count": 114,
      "outputs": [
        {
          "output_type": "display_data",
          "data": {
            "text/html": [
              "<html>\n",
              "<head><meta charset=\"utf-8\" /></head>\n",
              "<body>\n",
              "    <div>            <script src=\"https://cdnjs.cloudflare.com/ajax/libs/mathjax/2.7.5/MathJax.js?config=TeX-AMS-MML_SVG\"></script><script type=\"text/javascript\">if (window.MathJax && window.MathJax.Hub && window.MathJax.Hub.Config) {window.MathJax.Hub.Config({SVG: {font: \"STIX-Web\"}});}</script>                <script type=\"text/javascript\">window.PlotlyConfig = {MathJaxConfig: 'local'};</script>\n",
              "        <script charset=\"utf-8\" src=\"https://cdn.plot.ly/plotly-2.24.1.min.js\"></script>                <div id=\"d7c8ef28-a600-443d-9cf3-4450e74dcc14\" class=\"plotly-graph-div\" style=\"height:800px; width:100%;\"></div>            <script type=\"text/javascript\">                                    window.PLOTLYENV=window.PLOTLYENV || {};                                    if (document.getElementById(\"d7c8ef28-a600-443d-9cf3-4450e74dcc14\")) {                    Plotly.newPlot(                        \"d7c8ef28-a600-443d-9cf3-4450e74dcc14\",                        [{\"hovertemplate\":\"umap1=%{x}\\u003cbr\\u003eumap2=%{y}\\u003cbr\\u003etext=%{text}\\u003cextra\\u003e\\u003c\\u002fextra\\u003e\",\"legendgroup\":\"\",\"marker\":{\"color\":\"#636efa\",\"symbol\":\"circle\"},\"mode\":\"markers+text\",\"name\":\"\",\"orientation\":\"v\",\"showlegend\":false,\"text\":[\".\",\"the\",\"and\",\",\",\"i\",\"was\",\"!\",\"a\",\"to\",\"is\",\"it\",\"this\",\"of\",\"food\",\"not\",\"for\",\"in\",\"place\",\"n't\",\"good\",\"we\",\"service\",\"very\",\"my\",\"with\",\"had\",\"great\",\"that\",\"be\",\"so\",\"you\",\"are\",\"were\",\"have\",\"but\",\"back\",\"they\",\"here\",\"at\",\"on\",\"like\",\"all\",\"go\",\"time\",\"our\",\"'s\",\"do\",\"will\",\"there\",\"really\",\"as\",\"did\",\"just\",\"an\",\"would\",\"their\",\"best\",\"if\",\"...\",\"ever\",\"also\",\"friendly\",\"only\",\"never\",\"one\",\"up\",\"restaurant\",\"no\",\"your\",\"nice\",\"out\",\"from\",\"amazing\",\"again\",\"what\",\"'ve\",\"been\",\"delicious\",\"vegas\",\"which\",\"-\",\"by\",\"came\",\"me\",\"some\",\"'m\",\"experience\",\"when\",\"pretty\",\"minutes\",\"love\",\"he\",\"could\",\"get\",\"staff\",\"us\",\"eat\",\"disappointed\",\"or\",\"wo\",\"definitely\",\"even\",\")\",\"much\",\"got\",\"bad\",\"going\",\"made\",\"first\",\"chicken\",\"about\",\"can\",\"more\",\"(\",\"has\",\"better\",\"say\",\"think\",\"always\",\"way\",\"than\",\"well\",\"stars\",\"how\",\"too\",\"pizza\",\"salad\",\"worst\",\"steak\",\"wait\",\"other\",\"ordered\",\"menu\",\"fresh\",\"because\",\"being\",\"them\",\"''\",\"taste\",\"times\",\"``\",\"went\",\"server\",\"'ll\",\"sushi\",\"quality\",\"want\",\"flavor\",\"now\",\"any\",\"burger\",\"after\",\"awesome\",\"fantastic\",\"night\",\"enough\",\"&\",\"recommend\",\"meal\",\"tasty\",\"still\",\"slow\",\"come\",\"everything\",\"feel\",\"next\",\"know\",\"bland\",\"buffet\",\"order\",\"worth\",\"little\",\"selection\",\"loved\",\"prices\",\"sauce\",\"atmosphere\",\"another\",\"perfect\",\"terrible\",\"waited\",\":\",\"coming\",\"excellent\",\"probably\",\"breakfast\",\"dishes\",\"ca\",\"many\",\"people\",\"lunch\",\"off\",\"table\",\"sandwich\",\"every\",\"right\",\"then\",\"before\",\"'d\",\"meat\",\"fries\",\"clean\",\"soon\",\"down\",\"give\",\"she\",\"over\",\"day\",\"hot\",\"cold\",\"dining\",\"overall\",\"spicy\",\"take\",\"two\",\"beer\",\"while\",\"rude\",\"around\",\"bit\",\"took\",\"since\",\"who\",\"said\",\"make\",\"few\",\"getting\",\"sure\",\"happy\",\"spot\",\"waitress\",\"impressed\",\"felt\",\"try\",\"$\",\"tasted\",\"thing\",\"5\",\"both\",\"absolutely\",\"quite\",\"dish\",\"2\",\"waiter\",\"nothing\",\"side\",\"inside\",\"family\",\"should\",\"bar\",\"seriously\",\"special\",\"cooked\",\"tried\",\"overpriced\",\"wonderful\",\"once\",\"super\",\"chips\",\"far\",\"ambiance\",\"deal\",\"attentive\",\"price\",\"found\",\"town\",\"eating\",\"lot\",\"tender\",\"either\",\"twice\",\"each\",\"enjoy\",\"must\",\"last\",\"see\",\"?\",\"small\",\"her\",\"his\",\"hard\",\"'re\",\"tell\",\"horrible\",\"authentic\",\"dinner\",\"am\",\"pho\",\"warm\",\"poor\",\"check\",\"mediocre\",\"served\",\"management\",\"potato\",\"hour\",\"where\",\"left\",\"done\",\"money\",\"waiting\",\"fast\",\"wrong\",\"long\",\"enjoyed\",\"bring\",\"reasonable\",\"may\",\"new\",\"during\",\"things\",\"anytime\",\"fried\",\"expect\",\"friend\",\"hit\",\"home\",\"real\",\"portions\",\"disappointing\",\"old\",\"shrimp\",\"these\",\"sick\",\"dessert\",\"beef\",\"sweet\",\"customer\",\"outside\",\"30\",\"talk\",\"fish\",\"huge\",\"servers\",\"seafood\",\"pasta\",\"tasteless\",\"quick\",\"thai\",\"bread\",\"tables\",\"kept\",\"ice\",\"sat\",\"zero\",\"bacon\",\"area\",\"full\",\"avoid\",\"seated\",\"extremely\",\"return\",\"..\",\"....\",\"waste\",\"away\",\"asked\",\"thought\",\"places\",\"eaten\",\"barely\"],\"x\":[6.749946594238281,6.307849407196045,7.041967868804932,6.228813171386719,5.615220546722412,6.699007511138916,4.712271213531494,6.036196708679199,5.309457778930664,6.356633186340332,5.8969526290893555,5.635497570037842,5.685787677764893,6.131452560424805,6.366500377655029,6.5999436378479,5.995771408081055,5.159399509429932,6.394292831420898,6.05815315246582,6.919388771057129,6.349389553070068,5.629810333251953,6.299468994140625,6.296811580657959,6.4421820640563965,6.372447490692139,5.188098907470703,4.71469783782959,5.982915878295898,5.877710819244385,6.61215877532959,6.900398254394531,4.876950263977051,4.81978178024292,4.932961940765381,5.632322788238525,7.063536643981934,6.9930500984191895,5.550808429718018,5.886115550994873,6.40524435043335,4.814486026763916,5.301779270172119,6.5911736488342285,6.225879669189453,4.275216102600098,3.958186149597168,6.923069953918457,5.351863384246826,7.800772666931152,7.226906776428223,5.030327796936035,6.728321552276611,4.103313446044922,6.4252190589904785,6.2019362449646,4.631100177764893,4.164175033569336,3.8774361610412598,7.268625259399414,7.235104560852051,6.873669147491455,5.591377258300781,5.572542190551758,6.512447834014893,5.662217140197754,6.1686577796936035,5.903640270233154,6.4653730392456055,6.949084758758545,5.678375244140625,6.415706157684326,4.802363395690918,5.17033052444458,5.137030601501465,7.482866287231445,4.39784574508667,5.903944492340088,5.990026473999023,6.907588005065918,5.599289417266846,7.207076549530029,5.817984580993652,6.853077411651611,5.556095123291016,5.402264595031738,5.833885192871094,5.198246955871582,7.125112056732178,4.577385425567627,7.628201484680176,4.231235504150391,5.023306846618652,6.6353960037231445,6.082767963409424,5.468039512634277,4.283825874328613,5.998246192932129,3.9117393493652344,5.427669525146484,5.221432209014893,6.941878318786621,7.3225998878479,8.32423210144043,7.122682094573975,8.37533950805664,6.6422247886657715,5.659675598144531,6.136659145355225,4.572051525115967,4.5632429122924805,6.057880878448486,8.321324348449707,4.860589504241943,5.898251056671143,5.607747554779053,4.019733428955078,6.027255535125732,6.050603866577148,5.657421112060547,6.677810192108154,6.960421085357666,6.177978038787842,5.748275279998779,6.7076945304870605,6.257489204406738,5.816530227661133,5.814140796661377,8.389683723449707,5.046779632568359,8.021829605102539,6.143880844116211,6.802425384521484,6.059228897094727,5.6739301681518555,5.486479759216309,5.092399597167969,7.393407344818115,5.260287284851074,5.641627311706543,8.240606307983398,7.450841903686523,3.8555800914764404,5.3321213722229,6.715220928192139,5.033548355102539,6.6556782722473145,5.278128147125244,4.386165142059326,7.3662428855896,7.380512714385986,6.786848545074463,6.187517166137695,4.488787651062012,5.601759433746338,8.055085182189941,5.037198543548584,5.589234352111816,6.129991054534912,6.444622039794922,7.31310510635376,4.931005001068115,3.990370273590088,5.917645454406738,6.490450859069824,6.30724573135376,6.96806526184082,5.4206318855285645,7.840830326080322,5.5235371589660645,6.877544403076172,7.206825256347656,4.592255592346191,6.902419567108154,6.035562992095947,7.124676704406738,5.25363826751709,7.938535690307617,7.381325721740723,8.403979301452637,6.548977851867676,4.642947196960449,6.810586452484131,4.431868076324463,7.475456714630127,4.815893173217773,5.171964645385742,6.944282531738281,6.502626895904541,6.799359321594238,5.715944290161133,7.3683671951293945,6.154421806335449,3.869640350341797,4.6956353187561035,5.771130084991455,5.712809085845947,5.9778289794921875,7.311038494110107,7.6714701652526855,6.902974605560303,4.3500566482543945,5.703625202178955,4.809229850769043,7.328806400299072,4.80703592300415,4.523924827575684,5.3572797775268555,5.230955123901367,5.387560844421387,4.727238655090332,5.309105396270752,4.560885429382324,4.830024242401123,7.939060688018799,6.505340099334717,6.355859279632568,6.6039814949035645,5.736323833465576,5.744958877563477,5.809754848480225,7.228841781616211,5.181066036224365,4.510657787322998,6.25673246383667,4.47786283493042,5.328527927398682,4.36555290222168,5.621155738830566,7.418424129486084,4.6969428062438965,5.289551258087158,4.343072891235352,7.8542704582214355,7.273504734039307,3.824507713317871,6.9044928550720215,6.518896579742432,5.640110969543457,6.021862983703613,4.909153461456299,8.35002326965332,8.074427604675293,3.850978136062622,5.942318916320801,6.003632068634033,6.632246017456055,4.156386852264404,6.7043681144714355,5.564044952392578,6.4023637771606445,7.333795070648193,5.487545013427734,4.894220352172852,5.980635643005371,6.236884593963623,6.941740989685059,5.713412284851074,5.975712776184082,7.142341136932373,5.360017776489258,7.595390796661377,6.878723621368408,6.188779354095459,4.963136672973633,5.387355327606201,6.182111740112305,4.355007648468018,7.545944690704346,6.370631217956543,7.631439208984375,7.892301082611084,6.7956695556640625,7.541625022888184,4.80954122543335,6.748659610748291,6.456474304199219,7.61777925491333,5.766080856323242,4.840850353240967,6.889291286468506,4.5251007080078125,7.346843242645264,5.804853916168213,6.485089302062988,6.25372314453125,4.7642316818237305,5.202174663543701,7.710611343383789,6.590974807739258,6.230441093444824,7.596005916595459,7.2481794357299805,5.74704647064209,7.580448627471924,7.237478733062744,6.660348892211914,4.399615287780762,7.984822750091553,8.446794509887695,7.533725261688232,4.362949371337891,4.537774085998535,8.098560333251953,7.397299766540527,7.074548721313477,4.9542388916015625,7.84470272064209,6.428714752197266,3.853058338165283,4.39544677734375,7.6003875732421875,4.841190814971924,7.571211338043213,5.602755546569824,6.585634708404541,5.393162727355957,7.061933994293213,4.568530559539795,5.309608459472656,7.15528678894043,7.4076247215271,6.567721843719482,6.823146343231201,7.784987926483154,5.088537216186523,7.15318489074707,6.130999565124512,7.292613506317139,5.576455116271973,6.319584369659424,7.674230575561523,7.463678359985352,6.037571430206299,7.311532497406006,5.389841079711914,5.918406963348389,5.7423295974731445,5.767551422119141,7.2969889640808105,7.007351398468018,6.429776191711426,8.470449447631836,7.003925323486328,5.668789863586426,6.490645408630371,4.719507694244385,6.266943454742432,8.380752563476562,7.1695380210876465,5.128492832183838,3.9996654987335205,4.381173610687256,7.792038917541504,6.469371318817139,8.299077987670898,5.582866668701172,4.438891887664795,7.582118988037109,7.230759620666504],\"xaxis\":\"x\",\"y\":[8.124882698059082,8.215166091918945,7.587589740753174,8.178950309753418,7.850893020629883,7.82786226272583,7.7459635734558105,7.772566795349121,7.844936847686768,7.573665142059326,9.07361125946045,8.855119705200195,8.62888240814209,8.675374984741211,6.869972229003906,7.201300144195557,7.675156116485596,7.584099769592285,6.801295280456543,7.369874000549316,7.896581649780273,8.700433731079102,8.180269241333008,8.352802276611328,7.183433532714844,7.766988754272461,7.546429634094238,7.570531845092773,6.296775817871094,8.25542163848877,6.327678680419922,9.513388633728027,9.383689880371094,7.476579666137695,9.074376106262207,6.95674467086792,7.935814380645752,8.821106910705566,8.064297676086426,9.585289001464844,7.092826843261719,7.660516738891602,6.024995803833008,7.179421901702881,7.934443950653076,9.014213562011719,7.791594505310059,7.41310977935791,8.160988807678223,9.125837326049805,8.337285041809082,9.495031356811523,7.355138301849365,9.181907653808594,7.4626688957214355,8.089872360229492,8.127711296081543,6.83231258392334,8.923295974731445,7.217310905456543,6.85193395614624,8.106176376342773,8.723398208618164,6.791680335998535,9.287964820861816,7.036654949188232,8.22004222869873,9.22750473022461,7.074333190917969,8.661635398864746,6.283390045166016,7.473484039306641,6.909627914428711,6.471280097961426,7.222229957580566,8.052833557128906,7.045721054077148,7.420578479766846,8.485139846801758,8.810688972473145,7.98893928527832,6.397048473358154,7.418838024139404,9.25791072845459,6.935495853424072,8.061257362365723,7.998100757598877,6.408560276031494,8.427510261535645,8.189183235168457,8.662439346313477,9.5586576461792,7.782439231872559,6.806807994842529,8.502291679382324,9.880382537841797,6.034217357635498,7.931022644042969,7.234770774841309,7.196859359741211,7.087306022644043,7.7046990394592285,9.02142333984375,9.004143714904785,8.71829605102539,6.587764263153076,7.672656536102295,8.58482837677002,6.394502639770508,9.178500175476074,7.398141860961914,7.839679718017578,8.431821823120117,7.596821308135986,7.405155658721924,8.136822700500488,7.754408359527588,7.974843978881836,9.62682819366455,5.99912691116333,7.416922092437744,7.5139079093933105,6.370446681976318,6.654993057250977,7.25712776184082,8.467463493347168,10.246113777160645,8.350305557250977,8.828154563903809,8.299455642700195,7.217784404754639,8.90542984008789,9.544288635253906,9.868369102478027,6.596691608428955,7.206228733062744,8.370704650878906,8.420068740844727,8.160222053527832,7.083527088165283,6.807950973510742,8.153406143188477,8.457677841186523,7.3358283042907715,7.124846935272217,7.4667534828186035,8.128737449645996,8.859796524047852,8.354599952697754,6.489790439605713,9.123225212097168,7.959383487701416,6.623011112213135,7.652815341949463,8.415467262268066,8.953634262084961,8.087715148925781,6.611875057220459,9.627857208251953,9.157950401306152,8.181584358215332,6.446533203125,6.005005359649658,8.259932518005371,8.571004867553711,9.944396018981934,6.904671669006348,8.793478965759277,8.47645092010498,8.923672676086426,6.514679908752441,8.311360359191895,8.666032791137695,8.591493606567383,7.715030193328857,8.615218162536621,8.556902885437012,6.687654495239258,8.173850059509277,6.384885311126709,8.355690956115723,8.189620971679688,6.311032772064209,7.599038124084473,7.265705108642578,7.322970390319824,9.610591888427734,6.231483459472656,6.878804683685303,7.343201637268066,8.533198356628418,9.43305778503418,9.71671199798584,7.452033042907715,7.654160022735596,8.675951957702637,6.380068302154541,6.890690803527832,6.891905784606934,7.3829145431518555,8.076630592346191,8.681085586547852,6.58117151260376,5.7797393798828125,7.644680023193359,9.210064888000488,9.080401420593262,8.73872184753418,9.478899002075195,8.52025318145752,6.672668933868408,9.172971725463867,8.916650772094727,7.022095680236816,8.465954780578613,7.448498249053955,8.330126762390137,7.7456955909729,8.867144584655762,8.8888521194458,6.063725471496582,7.9435319900512695,9.922513008117676,9.230506896972656,7.009325981140137,8.494565963745117,6.767433166503906,8.756413459777832,7.274132251739502,9.835589408874512,9.17735481262207,8.317946434020996,9.713391304016113,7.1429314613342285,6.852730751037598,8.475747108459473,8.22462272644043,6.41561222076416,6.456923484802246,6.534383296966553,9.996726036071777,9.568695068359375,8.180835723876953,8.637289047241211,8.30575942993164,10.384138107299805,10.351866722106934,9.485857009887695,7.6014533042907715,7.075669288635254,8.603413581848145,9.568784713745117,7.64482307434082,7.163908004760742,9.027175903320312,7.756641864776611,7.048621654510498,8.574722290039062,9.841632843017578,7.851479530334473,8.362014770507812,9.593751907348633,8.80807113647461,8.135082244873047,6.027801036834717,7.136056423187256,6.024774551391602,5.986990928649902,8.86341667175293,9.541058540344238,9.095540046691895,6.594855785369873,9.125998497009277,7.0525946617126465,7.276672840118408,7.995011329650879,6.329885005950928,7.803776264190674,9.515132904052734,9.064959526062012,8.058223724365234,9.426084518432617,9.146873474121094,6.292454242706299,6.308901786804199,9.752411842346191,6.087334632873535,6.811354637145996,7.926272869110107,8.595048904418945,9.890002250671387,6.314218997955322,8.18030834197998,7.110507488250732,9.34372615814209,7.682982444763184,8.003111839294434,9.815956115722656,8.251673698425293,7.619657516479492,7.8261399269104,8.581740379333496,7.640509128570557,7.559410572052002,9.007036209106445,6.650043487548828,7.455537796020508,9.087959289550781,7.21076774597168,6.257258415222168,8.206467628479004,6.545553684234619,7.807027816772461,7.702504634857178,7.975360870361328,9.996443748474121,6.951362133026123,9.533658981323242,7.015090465545654,7.420307636260986,8.624889373779297,9.855460166931152,8.129059791564941,7.099124431610107,9.202293395996094,7.671529769897461,9.53971004486084,6.486561298370361,10.304720878601074,7.59946870803833,7.2593278884887695,9.624612808227539,6.558776378631592,8.479313850402832,9.077919960021973,7.2053728103637695,8.885917663574219,10.075153350830078,7.421075344085693,9.705212593078613,9.858043670654297,9.00672435760498,8.942489624023438,8.657386779785156,7.156952381134033,9.879175186157227,9.501165390014648,9.36089038848877,6.438698768615723,8.716941833496094,6.634083271026611,6.27471923828125,8.710927963256836,9.098237037658691,7.426272869110107,6.210847854614258,8.76152515411377,7.616399765014648,7.1251349449157715,6.351660251617432,6.7257537841796875],\"yaxis\":\"y\",\"type\":\"scatter\",\"textposition\":\"top center\"}],                        {\"template\":{\"data\":{\"histogram2dcontour\":[{\"type\":\"histogram2dcontour\",\"colorbar\":{\"outlinewidth\":0,\"ticks\":\"\"},\"colorscale\":[[0.0,\"#0d0887\"],[0.1111111111111111,\"#46039f\"],[0.2222222222222222,\"#7201a8\"],[0.3333333333333333,\"#9c179e\"],[0.4444444444444444,\"#bd3786\"],[0.5555555555555556,\"#d8576b\"],[0.6666666666666666,\"#ed7953\"],[0.7777777777777778,\"#fb9f3a\"],[0.8888888888888888,\"#fdca26\"],[1.0,\"#f0f921\"]]}],\"choropleth\":[{\"type\":\"choropleth\",\"colorbar\":{\"outlinewidth\":0,\"ticks\":\"\"}}],\"histogram2d\":[{\"type\":\"histogram2d\",\"colorbar\":{\"outlinewidth\":0,\"ticks\":\"\"},\"colorscale\":[[0.0,\"#0d0887\"],[0.1111111111111111,\"#46039f\"],[0.2222222222222222,\"#7201a8\"],[0.3333333333333333,\"#9c179e\"],[0.4444444444444444,\"#bd3786\"],[0.5555555555555556,\"#d8576b\"],[0.6666666666666666,\"#ed7953\"],[0.7777777777777778,\"#fb9f3a\"],[0.8888888888888888,\"#fdca26\"],[1.0,\"#f0f921\"]]}],\"heatmap\":[{\"type\":\"heatmap\",\"colorbar\":{\"outlinewidth\":0,\"ticks\":\"\"},\"colorscale\":[[0.0,\"#0d0887\"],[0.1111111111111111,\"#46039f\"],[0.2222222222222222,\"#7201a8\"],[0.3333333333333333,\"#9c179e\"],[0.4444444444444444,\"#bd3786\"],[0.5555555555555556,\"#d8576b\"],[0.6666666666666666,\"#ed7953\"],[0.7777777777777778,\"#fb9f3a\"],[0.8888888888888888,\"#fdca26\"],[1.0,\"#f0f921\"]]}],\"heatmapgl\":[{\"type\":\"heatmapgl\",\"colorbar\":{\"outlinewidth\":0,\"ticks\":\"\"},\"colorscale\":[[0.0,\"#0d0887\"],[0.1111111111111111,\"#46039f\"],[0.2222222222222222,\"#7201a8\"],[0.3333333333333333,\"#9c179e\"],[0.4444444444444444,\"#bd3786\"],[0.5555555555555556,\"#d8576b\"],[0.6666666666666666,\"#ed7953\"],[0.7777777777777778,\"#fb9f3a\"],[0.8888888888888888,\"#fdca26\"],[1.0,\"#f0f921\"]]}],\"contourcarpet\":[{\"type\":\"contourcarpet\",\"colorbar\":{\"outlinewidth\":0,\"ticks\":\"\"}}],\"contour\":[{\"type\":\"contour\",\"colorbar\":{\"outlinewidth\":0,\"ticks\":\"\"},\"colorscale\":[[0.0,\"#0d0887\"],[0.1111111111111111,\"#46039f\"],[0.2222222222222222,\"#7201a8\"],[0.3333333333333333,\"#9c179e\"],[0.4444444444444444,\"#bd3786\"],[0.5555555555555556,\"#d8576b\"],[0.6666666666666666,\"#ed7953\"],[0.7777777777777778,\"#fb9f3a\"],[0.8888888888888888,\"#fdca26\"],[1.0,\"#f0f921\"]]}],\"surface\":[{\"type\":\"surface\",\"colorbar\":{\"outlinewidth\":0,\"ticks\":\"\"},\"colorscale\":[[0.0,\"#0d0887\"],[0.1111111111111111,\"#46039f\"],[0.2222222222222222,\"#7201a8\"],[0.3333333333333333,\"#9c179e\"],[0.4444444444444444,\"#bd3786\"],[0.5555555555555556,\"#d8576b\"],[0.6666666666666666,\"#ed7953\"],[0.7777777777777778,\"#fb9f3a\"],[0.8888888888888888,\"#fdca26\"],[1.0,\"#f0f921\"]]}],\"mesh3d\":[{\"type\":\"mesh3d\",\"colorbar\":{\"outlinewidth\":0,\"ticks\":\"\"}}],\"scatter\":[{\"fillpattern\":{\"fillmode\":\"overlay\",\"size\":10,\"solidity\":0.2},\"type\":\"scatter\"}],\"parcoords\":[{\"type\":\"parcoords\",\"line\":{\"colorbar\":{\"outlinewidth\":0,\"ticks\":\"\"}}}],\"scatterpolargl\":[{\"type\":\"scatterpolargl\",\"marker\":{\"colorbar\":{\"outlinewidth\":0,\"ticks\":\"\"}}}],\"bar\":[{\"error_x\":{\"color\":\"#2a3f5f\"},\"error_y\":{\"color\":\"#2a3f5f\"},\"marker\":{\"line\":{\"color\":\"#E5ECF6\",\"width\":0.5},\"pattern\":{\"fillmode\":\"overlay\",\"size\":10,\"solidity\":0.2}},\"type\":\"bar\"}],\"scattergeo\":[{\"type\":\"scattergeo\",\"marker\":{\"colorbar\":{\"outlinewidth\":0,\"ticks\":\"\"}}}],\"scatterpolar\":[{\"type\":\"scatterpolar\",\"marker\":{\"colorbar\":{\"outlinewidth\":0,\"ticks\":\"\"}}}],\"histogram\":[{\"marker\":{\"pattern\":{\"fillmode\":\"overlay\",\"size\":10,\"solidity\":0.2}},\"type\":\"histogram\"}],\"scattergl\":[{\"type\":\"scattergl\",\"marker\":{\"colorbar\":{\"outlinewidth\":0,\"ticks\":\"\"}}}],\"scatter3d\":[{\"type\":\"scatter3d\",\"line\":{\"colorbar\":{\"outlinewidth\":0,\"ticks\":\"\"}},\"marker\":{\"colorbar\":{\"outlinewidth\":0,\"ticks\":\"\"}}}],\"scattermapbox\":[{\"type\":\"scattermapbox\",\"marker\":{\"colorbar\":{\"outlinewidth\":0,\"ticks\":\"\"}}}],\"scatterternary\":[{\"type\":\"scatterternary\",\"marker\":{\"colorbar\":{\"outlinewidth\":0,\"ticks\":\"\"}}}],\"scattercarpet\":[{\"type\":\"scattercarpet\",\"marker\":{\"colorbar\":{\"outlinewidth\":0,\"ticks\":\"\"}}}],\"carpet\":[{\"aaxis\":{\"endlinecolor\":\"#2a3f5f\",\"gridcolor\":\"white\",\"linecolor\":\"white\",\"minorgridcolor\":\"white\",\"startlinecolor\":\"#2a3f5f\"},\"baxis\":{\"endlinecolor\":\"#2a3f5f\",\"gridcolor\":\"white\",\"linecolor\":\"white\",\"minorgridcolor\":\"white\",\"startlinecolor\":\"#2a3f5f\"},\"type\":\"carpet\"}],\"table\":[{\"cells\":{\"fill\":{\"color\":\"#EBF0F8\"},\"line\":{\"color\":\"white\"}},\"header\":{\"fill\":{\"color\":\"#C8D4E3\"},\"line\":{\"color\":\"white\"}},\"type\":\"table\"}],\"barpolar\":[{\"marker\":{\"line\":{\"color\":\"#E5ECF6\",\"width\":0.5},\"pattern\":{\"fillmode\":\"overlay\",\"size\":10,\"solidity\":0.2}},\"type\":\"barpolar\"}],\"pie\":[{\"automargin\":true,\"type\":\"pie\"}]},\"layout\":{\"autotypenumbers\":\"strict\",\"colorway\":[\"#636efa\",\"#EF553B\",\"#00cc96\",\"#ab63fa\",\"#FFA15A\",\"#19d3f3\",\"#FF6692\",\"#B6E880\",\"#FF97FF\",\"#FECB52\"],\"font\":{\"color\":\"#2a3f5f\"},\"hovermode\":\"closest\",\"hoverlabel\":{\"align\":\"left\"},\"paper_bgcolor\":\"white\",\"plot_bgcolor\":\"#E5ECF6\",\"polar\":{\"bgcolor\":\"#E5ECF6\",\"angularaxis\":{\"gridcolor\":\"white\",\"linecolor\":\"white\",\"ticks\":\"\"},\"radialaxis\":{\"gridcolor\":\"white\",\"linecolor\":\"white\",\"ticks\":\"\"}},\"ternary\":{\"bgcolor\":\"#E5ECF6\",\"aaxis\":{\"gridcolor\":\"white\",\"linecolor\":\"white\",\"ticks\":\"\"},\"baxis\":{\"gridcolor\":\"white\",\"linecolor\":\"white\",\"ticks\":\"\"},\"caxis\":{\"gridcolor\":\"white\",\"linecolor\":\"white\",\"ticks\":\"\"}},\"coloraxis\":{\"colorbar\":{\"outlinewidth\":0,\"ticks\":\"\"}},\"colorscale\":{\"sequential\":[[0.0,\"#0d0887\"],[0.1111111111111111,\"#46039f\"],[0.2222222222222222,\"#7201a8\"],[0.3333333333333333,\"#9c179e\"],[0.4444444444444444,\"#bd3786\"],[0.5555555555555556,\"#d8576b\"],[0.6666666666666666,\"#ed7953\"],[0.7777777777777778,\"#fb9f3a\"],[0.8888888888888888,\"#fdca26\"],[1.0,\"#f0f921\"]],\"sequentialminus\":[[0.0,\"#0d0887\"],[0.1111111111111111,\"#46039f\"],[0.2222222222222222,\"#7201a8\"],[0.3333333333333333,\"#9c179e\"],[0.4444444444444444,\"#bd3786\"],[0.5555555555555556,\"#d8576b\"],[0.6666666666666666,\"#ed7953\"],[0.7777777777777778,\"#fb9f3a\"],[0.8888888888888888,\"#fdca26\"],[1.0,\"#f0f921\"]],\"diverging\":[[0,\"#8e0152\"],[0.1,\"#c51b7d\"],[0.2,\"#de77ae\"],[0.3,\"#f1b6da\"],[0.4,\"#fde0ef\"],[0.5,\"#f7f7f7\"],[0.6,\"#e6f5d0\"],[0.7,\"#b8e186\"],[0.8,\"#7fbc41\"],[0.9,\"#4d9221\"],[1,\"#276419\"]]},\"xaxis\":{\"gridcolor\":\"white\",\"linecolor\":\"white\",\"ticks\":\"\",\"title\":{\"standoff\":15},\"zerolinecolor\":\"white\",\"automargin\":true,\"zerolinewidth\":2},\"yaxis\":{\"gridcolor\":\"white\",\"linecolor\":\"white\",\"ticks\":\"\",\"title\":{\"standoff\":15},\"zerolinecolor\":\"white\",\"automargin\":true,\"zerolinewidth\":2},\"scene\":{\"xaxis\":{\"backgroundcolor\":\"#E5ECF6\",\"gridcolor\":\"white\",\"linecolor\":\"white\",\"showbackground\":true,\"ticks\":\"\",\"zerolinecolor\":\"white\",\"gridwidth\":2},\"yaxis\":{\"backgroundcolor\":\"#E5ECF6\",\"gridcolor\":\"white\",\"linecolor\":\"white\",\"showbackground\":true,\"ticks\":\"\",\"zerolinecolor\":\"white\",\"gridwidth\":2},\"zaxis\":{\"backgroundcolor\":\"#E5ECF6\",\"gridcolor\":\"white\",\"linecolor\":\"white\",\"showbackground\":true,\"ticks\":\"\",\"zerolinecolor\":\"white\",\"gridwidth\":2}},\"shapedefaults\":{\"line\":{\"color\":\"#2a3f5f\"}},\"annotationdefaults\":{\"arrowcolor\":\"#2a3f5f\",\"arrowhead\":0,\"arrowwidth\":1},\"geo\":{\"bgcolor\":\"white\",\"landcolor\":\"#E5ECF6\",\"subunitcolor\":\"white\",\"showland\":true,\"showlakes\":true,\"lakecolor\":\"white\"},\"title\":{\"x\":0.05},\"mapbox\":{\"style\":\"light\"}}},\"xaxis\":{\"anchor\":\"y\",\"domain\":[0.0,1.0],\"title\":{\"text\":\"umap1\"}},\"yaxis\":{\"anchor\":\"x\",\"domain\":[0.0,1.0],\"title\":{\"text\":\"umap2\"}},\"legend\":{\"tracegroupgap\":0},\"margin\":{\"t\":60},\"title\":{\"text\":\"Reduce W2V\"},\"height\":800},                        {\"responsive\": true}                    ).then(function(){\n",
              "                            \n",
              "var gd = document.getElementById('d7c8ef28-a600-443d-9cf3-4450e74dcc14');\n",
              "var x = new MutationObserver(function (mutations, observer) {{\n",
              "        var display = window.getComputedStyle(gd).display;\n",
              "        if (!display || display === 'none') {{\n",
              "            console.log([gd, 'removed!']);\n",
              "            Plotly.purge(gd);\n",
              "            observer.disconnect();\n",
              "        }}\n",
              "}});\n",
              "\n",
              "// Listen for the removal of the full notebook cells\n",
              "var notebookContainer = gd.closest('#notebook-container');\n",
              "if (notebookContainer) {{\n",
              "    x.observe(notebookContainer, {childList: true});\n",
              "}}\n",
              "\n",
              "// Listen for the clearing of the current output cell\n",
              "var outputEl = gd.closest('.output');\n",
              "if (outputEl) {{\n",
              "    x.observe(outputEl, {childList: true});\n",
              "}}\n",
              "\n",
              "                        })                };                            </script>        </div>\n",
              "</body>\n",
              "</html>"
            ]
          },
          "metadata": {}
        }
      ]
    },
    {
      "cell_type": "code",
      "source": [
        "w2v = FastText.load(\"model/fasttext/review.fasttext\").wv"
      ],
      "metadata": {
        "id": "nOHH4jvxXJLB"
      },
      "execution_count": 115,
      "outputs": []
    },
    {
      "cell_type": "code",
      "source": [
        "# Normalize Sentence Vector\n",
        "def sent_vector(sentence, w2v_model, stopwords):\n",
        "  vecs = [w2v_model[word.lower()] for word in word_tokenize(senyence) if word not in stopwords]\n",
        "  sent_vec = np.mean(vecs, axis=0)\n",
        "  return sent_vec\n",
        "\n",
        "def norm_sent_vector(sentence, w2v_model, stopwords):\n",
        "  vecs = [w2v_model[word.lower()] for word in word_tokenize(sentence) if word not in stopwords]\n",
        "\n",
        "  norm_vecs = [vec / np.linalg.norm(vec) for vec in vecs if np.linalg.norm(vec) > 0 ]\n",
        "  sent_vec = np.mean(norm_vecs, axis=0)\n",
        "  return sent_vec\n"
      ],
      "metadata": {
        "id": "Pukhyj9b-BA2"
      },
      "execution_count": 116,
      "outputs": []
    },
    {
      "cell_type": "code",
      "source": [
        "# Normalize Sentence Vector\n",
        "vecs = [norm_sent_vector(sentence, w2v, sw_english) for sentence in df.Review]\n",
        "vecs = np.array(vecs)\n",
        "vecs"
      ],
      "metadata": {
        "colab": {
          "base_uri": "https://localhost:8080/"
        },
        "id": "TwgTVy2KAAdt",
        "outputId": "c68b0f4d-4df4-4a79-cd1a-7f171415979e"
      },
      "execution_count": 117,
      "outputs": [
        {
          "output_type": "execute_result",
          "data": {
            "text/plain": [
              "array([[-3.4094509e-02, -1.4909651e-02, -8.8433884e-03, ...,\n",
              "        -5.6516778e-02, -4.4012107e-02,  1.1144369e-01],\n",
              "       [-5.4534227e-02, -3.1695388e-02,  1.4524917e-01, ...,\n",
              "        -1.1115603e-01, -3.5932582e-02, -4.2720344e-02],\n",
              "       [ 1.4000229e-02, -8.8507012e-03,  6.3880933e-03, ...,\n",
              "        -6.0543500e-02, -9.6661896e-02, -1.5769558e-02],\n",
              "       ...,\n",
              "       [ 9.9323429e-02, -7.6213828e-03, -7.3648966e-03, ...,\n",
              "         5.5543970e-02,  3.0627349e-02, -8.4475659e-02],\n",
              "       [-4.0407791e-03, -6.8307310e-02, -1.0211702e-04, ...,\n",
              "         1.2561299e-02,  2.9662529e-02,  4.9245432e-03],\n",
              "       [-4.5154098e-02, -2.1379258e-02,  5.4143596e-02, ...,\n",
              "         2.6999768e-02,  2.8291519e-03,  7.1648538e-02]], dtype=float32)"
            ]
          },
          "metadata": {},
          "execution_count": 117
        }
      ]
    },
    {
      "cell_type": "code",
      "source": [
        "vecs.shape"
      ],
      "metadata": {
        "colab": {
          "base_uri": "https://localhost:8080/"
        },
        "id": "wAOA32KnDfUG",
        "outputId": "8ebfa4cf-9b0b-40c2-991b-1fba9ccfab26"
      },
      "execution_count": 118,
      "outputs": [
        {
          "output_type": "execute_result",
          "data": {
            "text/plain": [
              "(1000, 100)"
            ]
          },
          "metadata": {},
          "execution_count": 118
        }
      ]
    },
    {
      "cell_type": "code",
      "source": [
        "from sklearn.svm import SVC\n",
        "from sklearn.model_selection import RandomizedSearchCV\n",
        "from sklearn.model_selection import train_test_split\n",
        "from sklearn.pipeline import Pipeline\n",
        "from sklearn.feature_extraction.text import TfidfVectorizer"
      ],
      "metadata": {
        "id": "9EYsOiExDkrb"
      },
      "execution_count": 119,
      "outputs": []
    },
    {
      "cell_type": "code",
      "source": [
        "X = vecs\n",
        "y = df.Liked\n",
        "\n",
        "X_train, X_test, y_train, y_test = train_test_split(X, y, test_size= 0.2, stratify=y, random_state=42)\n",
        "X_train.shape, y_train.shape, X_test.shape, y_test.shape"
      ],
      "metadata": {
        "colab": {
          "base_uri": "https://localhost:8080/"
        },
        "id": "rK3M3I2UFnlg",
        "outputId": "d308f9b2-4943-494e-a8c3-1c48bd17ce7b"
      },
      "execution_count": 120,
      "outputs": [
        {
          "output_type": "execute_result",
          "data": {
            "text/plain": [
              "((800, 100), (800,), (200, 100), (200,))"
            ]
          },
          "metadata": {},
          "execution_count": 120
        }
      ]
    },
    {
      "cell_type": "code",
      "source": [
        "pipeline = Pipeline([\n",
        "    ('algo', SVC(max_iter=500))\n",
        "])\n",
        "\n",
        "\n",
        "param_dist = {\n",
        "    'algo__C': [0.1, 1, 10],\n",
        "    'algo__kernel': ['linear', 'rbf'],\n",
        "    'algo__gamma': ['scale', 'auto']\n",
        "}\n",
        "\n",
        "\n",
        "model = RandomizedSearchCV(pipeline, param_dist, cv=4, n_iter=20, n_jobs=1, verbose=1, random_state=42)\n",
        "model.fit(X_train, y_train)\n",
        "\n",
        "print(model.best_params_)\n",
        "print(model.score(X_train, y_train), model.best_score_, model.score(X_test, y_test))"
      ],
      "metadata": {
        "colab": {
          "base_uri": "https://localhost:8080/"
        },
        "id": "JMEJHNFyFr81",
        "outputId": "548db21e-3da9-4232-8926-e2fa2d39b56d"
      },
      "execution_count": 121,
      "outputs": [
        {
          "output_type": "stream",
          "name": "stderr",
          "text": [
            "/usr/local/lib/python3.10/dist-packages/sklearn/model_selection/_search.py:305: UserWarning:\n",
            "\n",
            "The total space of parameters 12 is smaller than n_iter=20. Running 12 iterations. For exhaustive searches, use GridSearchCV.\n",
            "\n"
          ]
        },
        {
          "output_type": "stream",
          "name": "stdout",
          "text": [
            "Fitting 4 folds for each of 12 candidates, totalling 48 fits\n"
          ]
        },
        {
          "output_type": "stream",
          "name": "stderr",
          "text": [
            "/usr/local/lib/python3.10/dist-packages/sklearn/svm/_base.py:299: ConvergenceWarning:\n",
            "\n",
            "Solver terminated early (max_iter=500).  Consider pre-processing your data with StandardScaler or MinMaxScaler.\n",
            "\n",
            "/usr/local/lib/python3.10/dist-packages/sklearn/svm/_base.py:299: ConvergenceWarning:\n",
            "\n",
            "Solver terminated early (max_iter=500).  Consider pre-processing your data with StandardScaler or MinMaxScaler.\n",
            "\n",
            "/usr/local/lib/python3.10/dist-packages/sklearn/svm/_base.py:299: ConvergenceWarning:\n",
            "\n",
            "Solver terminated early (max_iter=500).  Consider pre-processing your data with StandardScaler or MinMaxScaler.\n",
            "\n",
            "/usr/local/lib/python3.10/dist-packages/sklearn/svm/_base.py:299: ConvergenceWarning:\n",
            "\n",
            "Solver terminated early (max_iter=500).  Consider pre-processing your data with StandardScaler or MinMaxScaler.\n",
            "\n",
            "/usr/local/lib/python3.10/dist-packages/sklearn/svm/_base.py:299: ConvergenceWarning:\n",
            "\n",
            "Solver terminated early (max_iter=500).  Consider pre-processing your data with StandardScaler or MinMaxScaler.\n",
            "\n",
            "/usr/local/lib/python3.10/dist-packages/sklearn/svm/_base.py:299: ConvergenceWarning:\n",
            "\n",
            "Solver terminated early (max_iter=500).  Consider pre-processing your data with StandardScaler or MinMaxScaler.\n",
            "\n",
            "/usr/local/lib/python3.10/dist-packages/sklearn/svm/_base.py:299: ConvergenceWarning:\n",
            "\n",
            "Solver terminated early (max_iter=500).  Consider pre-processing your data with StandardScaler or MinMaxScaler.\n",
            "\n",
            "/usr/local/lib/python3.10/dist-packages/sklearn/svm/_base.py:299: ConvergenceWarning:\n",
            "\n",
            "Solver terminated early (max_iter=500).  Consider pre-processing your data with StandardScaler or MinMaxScaler.\n",
            "\n",
            "/usr/local/lib/python3.10/dist-packages/sklearn/svm/_base.py:299: ConvergenceWarning:\n",
            "\n",
            "Solver terminated early (max_iter=500).  Consider pre-processing your data with StandardScaler or MinMaxScaler.\n",
            "\n",
            "/usr/local/lib/python3.10/dist-packages/sklearn/svm/_base.py:299: ConvergenceWarning:\n",
            "\n",
            "Solver terminated early (max_iter=500).  Consider pre-processing your data with StandardScaler or MinMaxScaler.\n",
            "\n",
            "/usr/local/lib/python3.10/dist-packages/sklearn/svm/_base.py:299: ConvergenceWarning:\n",
            "\n",
            "Solver terminated early (max_iter=500).  Consider pre-processing your data with StandardScaler or MinMaxScaler.\n",
            "\n",
            "/usr/local/lib/python3.10/dist-packages/sklearn/svm/_base.py:299: ConvergenceWarning:\n",
            "\n",
            "Solver terminated early (max_iter=500).  Consider pre-processing your data with StandardScaler or MinMaxScaler.\n",
            "\n",
            "/usr/local/lib/python3.10/dist-packages/sklearn/svm/_base.py:299: ConvergenceWarning:\n",
            "\n",
            "Solver terminated early (max_iter=500).  Consider pre-processing your data with StandardScaler or MinMaxScaler.\n",
            "\n",
            "/usr/local/lib/python3.10/dist-packages/sklearn/svm/_base.py:299: ConvergenceWarning:\n",
            "\n",
            "Solver terminated early (max_iter=500).  Consider pre-processing your data with StandardScaler or MinMaxScaler.\n",
            "\n",
            "/usr/local/lib/python3.10/dist-packages/sklearn/svm/_base.py:299: ConvergenceWarning:\n",
            "\n",
            "Solver terminated early (max_iter=500).  Consider pre-processing your data with StandardScaler or MinMaxScaler.\n",
            "\n",
            "/usr/local/lib/python3.10/dist-packages/sklearn/svm/_base.py:299: ConvergenceWarning:\n",
            "\n",
            "Solver terminated early (max_iter=500).  Consider pre-processing your data with StandardScaler or MinMaxScaler.\n",
            "\n"
          ]
        },
        {
          "output_type": "stream",
          "name": "stdout",
          "text": [
            "{'algo__kernel': 'rbf', 'algo__gamma': 'scale', 'algo__C': 1}\n",
            "0.90375 0.6974999999999999 0.78\n"
          ]
        },
        {
          "output_type": "stream",
          "name": "stderr",
          "text": [
            "/usr/local/lib/python3.10/dist-packages/sklearn/svm/_base.py:299: ConvergenceWarning:\n",
            "\n",
            "Solver terminated early (max_iter=500).  Consider pre-processing your data with StandardScaler or MinMaxScaler.\n",
            "\n"
          ]
        }
      ]
    },
    {
      "cell_type": "code",
      "source": [
        "from jcopml.plot import plot_confusion_matrix"
      ],
      "metadata": {
        "id": "a-YnSeQMijjG"
      },
      "execution_count": 122,
      "outputs": []
    },
    {
      "cell_type": "code",
      "source": [
        "plot_confusion_matrix(X_train, y_train, X_test, y_test, model)"
      ],
      "metadata": {
        "colab": {
          "base_uri": "https://localhost:8080/",
          "height": 493
        },
        "id": "TpkwNiLNipxH",
        "outputId": "f837428d-ce5d-45ad-962f-b55d228f0709"
      },
      "execution_count": 123,
      "outputs": [
        {
          "output_type": "display_data",
          "data": {
            "text/plain": [
              "<Figure size 1100x500 with 2 Axes>"
            ],
            "image/png": "[encoded data removed]"
          },
          "metadata": {}
        }
      ]
    },
    {
      "cell_type": "code",
      "source": [
        "new_sentence = \"the food and place are quite good, but access to this place is not good\"\n",
        "\n",
        "new_sentence_vector1 = norm_sent_vector(new_sentence, w2v, sw_english)\n",
        "new_sentence_vector = new_sentence_vector1.reshape(1, -1)  # Reshape vector\n",
        "prediction = model.predict(new_sentence_vector)\n",
        "print(\"new sentence predictions:\", prediction)\n"
      ],
      "metadata": {
        "colab": {
          "base_uri": "https://localhost:8080/"
        },
        "id": "dCQx5NALohgi",
        "outputId": "1bc4e38d-9057-4a76-bcb4-f5cffa177709"
      },
      "execution_count": 124,
      "outputs": [
        {
          "output_type": "stream",
          "name": "stdout",
          "text": [
            "new sentence predictions: [1]\n"
          ]
        }
      ]
    }
  ]
}